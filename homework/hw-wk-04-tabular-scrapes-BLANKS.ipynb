{
  "nbformat": 4,
  "nbformat_minor": 0,
  "metadata": {
    "kernelspec": {
      "display_name": "Python 3",
      "language": "python",
      "name": "python3"
    },
    "language_info": {
      "codemirror_mode": {
        "name": "ipython",
        "version": 3
      },
      "file_extension": ".py",
      "mimetype": "text/x-python",
      "name": "python",
      "nbconvert_exporter": "python",
      "pygments_lexer": "ipython3",
      "version": "3.8.3"
    },
    "colab": {
      "provenance": []
    }
  },
  "cells": [
    {
      "cell_type": "markdown",
      "source": [
        "## Single page Tabular Scrape\n",
        "\n",
        "- <a href=\"https://apps.health.ny.gov/pubdoh/professionals/doctors/conduct/factions/AllRecordsAction.action\">On this site</a>, scrape all the doctors info on page 292.\n",
        "- Export the content into a CSV file called ```page_292.csv```."
      ],
      "metadata": {
        "id": "vL8nQmiyYxdA"
      }
    },
    {
      "cell_type": "code",
      "source": [
        "## create cells as needed"
      ],
      "metadata": {
        "id": "J-j0j-bFZMx_"
      },
      "execution_count": null,
      "outputs": []
    },
    {
      "cell_type": "markdown",
      "metadata": {
        "id": "mBfDX-GhmJg3"
      },
      "source": [
        "## Multipage Tabular Scrape\n",
        "\n",
        "- <a href=\"https://apps.health.ny.gov/pubdoh/professionals/doctors/conduct/factions/AllRecordsAction.action\">On this site</a>, scrape all doctors whose last names begin with \"P\".\n",
        "- Export the content into a CSV file called ```md_P.csv```.\n"
      ]
    },
    {
      "cell_type": "code",
      "metadata": {
        "id": "wq2tpZ1zmJg9"
      },
      "source": [
        "## create cells as needed"
      ],
      "execution_count": null,
      "outputs": []
    }
  ]
}