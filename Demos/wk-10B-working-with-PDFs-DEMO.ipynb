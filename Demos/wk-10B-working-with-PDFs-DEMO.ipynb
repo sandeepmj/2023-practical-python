{
 "cells": [
  {
   "cell_type": "markdown",
   "metadata": {
    "id": "9FUirTb9HvpN"
   },
   "source": [
    "# Tables scattered in PDFs\n",
    "\n",
    "As it is, PDFs are notoriously obnoxious. They are designed so people can't change them easily.\n",
    "\n",
    "PDFs that hold tables are pretty much the worst.\n",
    "\n",
    "We want to <a href=\"https://drive.google.com/file/d/1aeRaTL1G3rCfAiQIGo3ZlWc1YnE4pr8H/view?usp=share_link\">scrape data from digital PDFs</a>.\n",
    "\n",
    "You might have worked with the <a href=\"https://tabula.technology/\">Tabula GUI</a> to extract tables from PDFs. But there's a lot of manual work involved. \n",
    "\n",
    "To automate the process, we'll use the **Tabula Python Library**.\n",
    "\n",
    "### There's NO satisfaction guarantee, but at least it's a way to try to tackle PDFs with tables."
   ]
  },
  {
   "cell_type": "markdown",
   "metadata": {
    "id": "Lxf2wkM4IGEV"
   },
   "source": [
    "## THE SETUP"
   ]
  },
  {
   "cell_type": "code",
   "execution_count": null,
   "metadata": {
    "id": "MFmiQ5H3HlEQ"
   },
   "outputs": [],
   "source": [
    "## !pip install tabula-py.\n",
    "## it is not part of the standard Colab library"
   ]
  },
  {
   "cell_type": "code",
   "execution_count": 1,
   "metadata": {
    "id": "wksiWLl8EEQk"
   },
   "outputs": [
    {
     "name": "stdout",
     "output_type": "stream",
     "text": [
      "Note: you may need to restart the kernel to use updated packages.\n"
     ]
    }
   ],
   "source": [
    "pip install -q tabula-py"
   ]
  },
  {
   "cell_type": "code",
   "execution_count": 2,
   "metadata": {
    "id": "6CBHdtwFrEwE"
   },
   "outputs": [
    {
     "name": "stdout",
     "output_type": "stream",
     "text": [
      "Requirement already satisfied: install-jdk in /Users/sandeepjunnarkar/opt/anaconda3/lib/python3.9/site-packages (0.3.0)\n",
      "Note: you may need to restart the kernel to use updated packages.\n"
     ]
    }
   ],
   "source": [
    "pip install install-jdk"
   ]
  },
  {
   "cell_type": "code",
   "execution_count": 3,
   "metadata": {
    "id": "hZyCzxEMH_Rn"
   },
   "outputs": [
    {
     "name": "stdout",
     "output_type": "stream",
     "text": [
      "Python version:\n",
      "    3.9.7 (default, Sep 16 2021, 08:50:36) \n",
      "[Clang 10.0.0 ]\n",
      "Java version:\n",
      "    java version \"19.0.1\" 2022-10-18\n",
      "Java(TM) SE Runtime Environment (build 19.0.1+10-21)\n",
      "Java HotSpot(TM) 64-Bit Server VM (build 19.0.1+10-21, mixed mode, sharing)\n",
      "tabula-py version: 2.5.1\n",
      "platform: macOS-10.16-x86_64-i386-64bit\n",
      "uname:\n",
      "    uname_result(system='Darwin', node='Sandeep-Junnarkars-MacBook-Pro.local', release='23.1.0', version='Darwin Kernel Version 23.1.0: Mon Oct  9 21:27:24 PDT 2023; root:xnu-10002.41.9~6/RELEASE_ARM64_T6000', machine='x86_64')\n",
      "linux_distribution: ('Darwin', '23.1.0', '')\n",
      "mac_ver: ('10.16', ('', '', ''), 'x86_64')\n"
     ]
    }
   ],
   "source": [
    "## import tabula\n",
    "## check it's versioning\n",
    "import tabula\n",
    "tabula.environment_info() ## not need always\n"
   ]
  },
  {
   "cell_type": "markdown",
   "metadata": {},
   "source": [
    "For other people getting the JDK error within jupyter nb, this resolved it for me. I installed the latest version of Oracle’s Java JDK. For those with an M1 machine, the appropriate one is the ARM file under the MacOS tab; for those with intel, it’s the x64.\n",
    "\n",
    "https://www.oracle.com/java/technologies/downloads/#jdk17-mac"
   ]
  },
  {
   "cell_type": "code",
   "execution_count": null,
   "metadata": {
    "id": "9M3P2qPBH_YJ"
   },
   "outputs": [],
   "source": [
    "## import some libraries we need\n",
    "import pandas as pd ## pandas to work with data\n"
   ]
  },
  {
   "cell_type": "code",
   "execution_count": 4,
   "metadata": {
    "id": "G0F6thFoH_CV"
   },
   "outputs": [
    {
     "name": "stderr",
     "output_type": "stream",
     "text": [
      "'pages' argument isn't specified.Will extract only from page 1 by default.\n"
     ]
    },
    {
     "data": {
      "text/plain": [
       "[   Fringe Benefit Expenses (in millions) Fiscal 2019 Fiscal 2020  \\\n",
       " 0                       Health Insurance      $6,268      $7,173   \n",
       " 1                        Social Security      $2,161      $2,224   \n",
       " 2          Supplemental Welfare Benefits      $1,259      $1,333   \n",
       " 3                  Worker's Compensation        $343        $369   \n",
       " 4                  Annuity Contributions        $117        $120   \n",
       " 5                 Allowance for Uniforms         $72         $71   \n",
       " 6      Worker's Compensation - Uniformed         $41         $42   \n",
       " 7                 Unemployment Insurance         $36         $38   \n",
       " 8                  Other Fringe Benefits         $12         $12   \n",
       " 9               Faculty Welfare Benefits         $33         $10   \n",
       " 10                  Disability Insurance          $1          $1   \n",
       " 11                                Total*     $10,642     $11,394   \n",
       " \n",
       "    Percent Change  \n",
       " 0             14%  \n",
       " 1              3%  \n",
       " 2              6%  \n",
       " 3              8%  \n",
       " 4              3%  \n",
       " 5             -1%  \n",
       " 6              4%  \n",
       " 7              3%  \n",
       " 8             -3%  \n",
       " 9            -69%  \n",
       " 10             0%  \n",
       " 11             7%  ]"
      ]
     },
     "execution_count": 4,
     "metadata": {},
     "output_type": "execute_result"
    }
   ],
   "source": [
    "## Let's pull in our first pdf with a single page, single table\n",
    "pdf1 = \"pdf_samples/mockup1.pdf\"\n",
    "table1 = tabula.read_pdf(pdf1)\n",
    "table1"
   ]
  },
  {
   "cell_type": "code",
   "execution_count": null,
   "metadata": {
    "id": "P6yphHDEr2wg"
   },
   "outputs": [],
   "source": [
    "## WHAT TYPE OF DATA?\n"
   ]
  },
  {
   "cell_type": "code",
   "execution_count": null,
   "metadata": {
    "id": "yciinnKnsCzQ"
   },
   "outputs": [],
   "source": [
    "## let's get the first table\n"
   ]
  },
  {
   "cell_type": "code",
   "execution_count": null,
   "metadata": {
    "id": "_1dTc_sDEEQm"
   },
   "outputs": [],
   "source": [
    "## look at it\n"
   ]
  },
  {
   "cell_type": "code",
   "execution_count": null,
   "metadata": {
    "id": "hUmsX-X5tbM7"
   },
   "outputs": [],
   "source": [
    "## WHT TYPE OF DATA?\n"
   ]
  },
  {
   "cell_type": "code",
   "execution_count": null,
   "metadata": {
    "id": "18Wb3xT3tbQl"
   },
   "outputs": [],
   "source": [
    "## Export and download as CSV file\n"
   ]
  },
  {
   "cell_type": "markdown",
   "metadata": {
    "id": "Zq6ttpEMvnWa"
   },
   "source": [
    "# Multiple pages/ Multiple tables\n"
   ]
  },
  {
   "cell_type": "code",
   "execution_count": null,
   "metadata": {
    "id": "b6dSksJytbYb"
   },
   "outputs": [],
   "source": [
    "## let's pull in our a file with multiple pages and tables\n",
    "## we target the table on the fisrt and second page.\n"
   ]
  },
  {
   "cell_type": "code",
   "execution_count": null,
   "metadata": {
    "id": "FpWwgfQitbeC"
   },
   "outputs": [],
   "source": [
    "## let's get the first table\n"
   ]
  },
  {
   "cell_type": "code",
   "execution_count": null,
   "metadata": {
    "id": "3MuAEix0tbg4"
   },
   "outputs": [],
   "source": [
    "## we are pulling in a range of pages\n",
    "## IMPORTANT: There are no spaces in \"1-2,4\"\n"
   ]
  },
  {
   "cell_type": "markdown",
   "metadata": {
    "id": "OiC2PZonEEQn"
   },
   "source": [
    "## Homework for week 9\n",
    "\n",
    "- Multi-page, Multi-table all zipped together\n",
    "- Look at week 9"
   ]
  },
  {
   "cell_type": "markdown",
   "metadata": {
    "id": "VDwte6-0EEQn"
   },
   "source": [
    "## Foundational Multi-page, Multi-table\n",
    "\n",
    "### Campaign contribution demo"
   ]
  },
  {
   "cell_type": "code",
   "execution_count": null,
   "metadata": {
    "id": "oDXTNCYz3Meo"
   },
   "outputs": [],
   "source": [
    "## path to our \"campaign_contribs.pdf\" PDF\n"
   ]
  },
  {
   "cell_type": "code",
   "execution_count": null,
   "metadata": {
    "id": "1e8-1K9d3Rv2"
   },
   "outputs": [],
   "source": [
    "## get all the pages\n"
   ]
  },
  {
   "cell_type": "code",
   "execution_count": null,
   "metadata": {
    "id": "DHVO2hJk6FWA"
   },
   "outputs": [],
   "source": [
    "## confirm we have the correct number of tables. should have 4 tables\n"
   ]
  },
  {
   "cell_type": "code",
   "execution_count": null,
   "metadata": {
    "id": "8AgXtOZY3SBc"
   },
   "outputs": [],
   "source": [
    "## let's get the 3rd table\n"
   ]
  },
  {
   "cell_type": "code",
   "execution_count": null,
   "metadata": {
    "id": "p5-wk7y_3SUX"
   },
   "outputs": [],
   "source": [
    "## create a function to download each table as CSV\n"
   ]
  },
  {
   "cell_type": "code",
   "execution_count": null,
   "metadata": {
    "id": "6S-mWu_y3SQr"
   },
   "outputs": [],
   "source": [
    "## call the function\n"
   ]
  },
  {
   "cell_type": "code",
   "execution_count": null,
   "metadata": {
    "id": "bJGfauf83SHi"
   },
   "outputs": [],
   "source": [
    "## write function to combine tabula tables into a single csv\n"
   ]
  },
  {
   "cell_type": "code",
   "execution_count": null,
   "metadata": {
    "id": "iz5nAFFQ3R98"
   },
   "outputs": [],
   "source": [
    "## call the function\n"
   ]
  },
  {
   "cell_type": "markdown",
   "metadata": {
    "id": "9eXkX_-5EEQp"
   },
   "source": [
    "## Reality Check"
   ]
  },
  {
   "cell_type": "code",
   "execution_count": null,
   "metadata": {
    "id": "IaIrkyaF3RsB"
   },
   "outputs": [],
   "source": [
    "## import who_covid.pdf\n"
   ]
  },
  {
   "cell_type": "code",
   "execution_count": null,
   "metadata": {
    "id": "vggux_N7BWnK"
   },
   "outputs": [],
   "source": [
    "##look at it\n"
   ]
  },
  {
   "cell_type": "code",
   "execution_count": null,
   "metadata": {
    "id": "PUpxCYpC_ZsK"
   },
   "outputs": [],
   "source": [
    "## table on page 3\n",
    "\n"
   ]
  },
  {
   "cell_type": "code",
   "execution_count": null,
   "metadata": {
    "id": "gKgCjv3JAMCv"
   },
   "outputs": [],
   "source": [
    "##table on page 4\n"
   ]
  },
  {
   "cell_type": "markdown",
   "metadata": {
    "id": "LYrUcnZ29uGJ"
   },
   "source": [
    "# No Satisfaction Guarantee\n",
    "\n",
    "I know I said that at the beginning. What did I mean by that?\n",
    "\n",
    "The results really depend on the PDF and how it was put together.\n",
    "\n",
    "Here are some issues you will encounter:\n",
    "\n",
    "1. The Tables have too many sub-columns and sub-rows and groupings (bad_table.pdf)\n",
    "\n",
    "2. Multiple different tables on the same page that are too close together will be processed as a single table and be an utter mess.\n",
    "\n",
    "3. Documents and reports that have been scanned and are really images of PDFs can't be processed with Tabula or PyPDF2. Tables on these types of scans require advanced Python and graphical analysis skills beyond the scope of this course."
   ]
  },
  {
   "cell_type": "code",
   "execution_count": null,
   "metadata": {
    "id": "VXnrEkXw9vhA"
   },
   "outputs": [],
   "source": []
  }
 ],
 "metadata": {
  "colab": {
   "collapsed_sections": [],
   "name": "week-9-working-with-PDFs_BLANKS.ipynb",
   "provenance": [
    {
     "file_id": "1G-JATnnWYmbUDisejfkNlWNndJyDunak",
     "timestamp": 1629243241662
    },
    {
     "file_id": "1v0jsZjHBn9_KTLJBKwBX7GdOzIBmqjeJ",
     "timestamp": 1621421029732
    }
   ]
  },
  "kernelspec": {
   "display_name": "Python 3 (ipykernel)",
   "language": "python",
   "name": "python3"
  },
  "language_info": {
   "codemirror_mode": {
    "name": "ipython",
    "version": 3
   },
   "file_extension": ".py",
   "mimetype": "text/x-python",
   "name": "python",
   "nbconvert_exporter": "python",
   "pygments_lexer": "ipython3",
   "version": "3.9.7"
  }
 },
 "nbformat": 4,
 "nbformat_minor": 1
}
