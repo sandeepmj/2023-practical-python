{
 "cells": [
  {
   "cell_type": "markdown",
   "id": "3dc2667e",
   "metadata": {},
   "source": [
    "# Functions - Part 2\n",
    "\n",
    "### Adding Flexibility"
   ]
  },
  {
   "cell_type": "code",
   "execution_count": 1,
   "id": "859af296",
   "metadata": {},
   "outputs": [],
   "source": [
    "## RUN THIS CELL\n",
    "## Each list of numbers has to be turned into absolute numbers \n",
    "mylist1 = [1, -5, 22, -44.2, 33, -45]\n",
    "mylist2 = [-56, -34, -75, -111, -22]\n",
    "mylist3 = [-100, -200, 100, -300, -100]\n",
    "mylist4 = [-23, -89, -11, -45, -27]\n",
    "mylist5 = [0, 1, 2, 3, 4, 5]"
   ]
  },
  {
   "cell_type": "code",
   "execution_count": 2,
   "id": "d035ea17",
   "metadata": {},
   "outputs": [],
   "source": [
    "## Our function from last week to turn a number into an absolute value\n",
    "\n",
    "def absNumbers(list_name):\n",
    "    '''\n",
    "    take list, return an updated list with absolute values\n",
    "    '''\n",
    "    return [abs(number) for number in list_name]"
   ]
  },
  {
   "cell_type": "code",
   "execution_count": 3,
   "id": "5fb70221",
   "metadata": {},
   "outputs": [
    {
     "data": {
      "text/plain": [
       "[1, 5, 22, 44.2, 33, 45]"
      ]
     },
     "execution_count": 3,
     "metadata": {},
     "output_type": "execute_result"
    }
   ],
   "source": [
    "## test it here on a list\n",
    "## and store in variable\n",
    "updated1 = absNumbers(mylist1)\n",
    "updated1"
   ]
  },
  {
   "cell_type": "code",
   "execution_count": 4,
   "id": "885ca908",
   "metadata": {},
   "outputs": [
    {
     "ename": "TypeError",
     "evalue": "'int' object is not iterable",
     "output_type": "error",
     "traceback": [
      "\u001b[0;31m---------------------------------------------------------------------------\u001b[0m",
      "\u001b[0;31mTypeError\u001b[0m                                 Traceback (most recent call last)",
      "Cell \u001b[0;32mIn[4], line 2\u001b[0m\n\u001b[1;32m      1\u001b[0m \u001b[38;5;66;03m## this will break\u001b[39;00m\n\u001b[0;32m----> 2\u001b[0m \u001b[43mabsNumbers\u001b[49m\u001b[43m(\u001b[49m\u001b[38;5;241;43m-\u001b[39;49m\u001b[38;5;241;43m10\u001b[39;49m\u001b[43m)\u001b[49m\n",
      "Cell \u001b[0;32mIn[2], line 7\u001b[0m, in \u001b[0;36mabsNumbers\u001b[0;34m(list_name)\u001b[0m\n\u001b[1;32m      3\u001b[0m \u001b[38;5;28;01mdef\u001b[39;00m \u001b[38;5;21mabsNumbers\u001b[39m(list_name):\n\u001b[1;32m      4\u001b[0m \u001b[38;5;250m    \u001b[39m\u001b[38;5;124;03m'''\u001b[39;00m\n\u001b[1;32m      5\u001b[0m \u001b[38;5;124;03m    take list, return an updated list with absolute values\u001b[39;00m\n\u001b[1;32m      6\u001b[0m \u001b[38;5;124;03m    '''\u001b[39;00m\n\u001b[0;32m----> 7\u001b[0m     \u001b[38;5;28;01mreturn\u001b[39;00m [\u001b[38;5;28mabs\u001b[39m(number) \u001b[38;5;28;01mfor\u001b[39;00m number \u001b[38;5;129;01min\u001b[39;00m list_name]\n",
      "\u001b[0;31mTypeError\u001b[0m: 'int' object is not iterable"
     ]
    }
   ],
   "source": [
    "## try using it on a single number like -10\n",
    "## it will break\n",
    "\n",
    "absNumbers(-10)"
   ]
  },
  {
   "cell_type": "markdown",
   "id": "dff7c12d",
   "metadata": {},
   "source": [
    "## Make a function more flexible and universal\n",
    "\n",
    "* Currently, we have a function that takes ONLY a list as an argument.\n",
    "* We'd have to write another one for a single number argument."
   ]
  },
  {
   "cell_type": "markdown",
   "id": "40f6de73",
   "metadata": {},
   "source": [
    "## Universalize our absolute numbers function"
   ]
  },
  {
   "cell_type": "code",
   "execution_count": 5,
   "id": "21a87ac3",
   "metadata": {},
   "outputs": [],
   "source": [
    "def make_abs(a_number):\n",
    "    return abs(a_number)"
   ]
  },
  {
   "cell_type": "code",
   "execution_count": 6,
   "id": "0afaf09f",
   "metadata": {},
   "outputs": [
    {
     "ename": "TypeError",
     "evalue": "bad operand type for abs(): 'list'",
     "output_type": "error",
     "traceback": [
      "\u001b[0;31m---------------------------------------------------------------------------\u001b[0m",
      "\u001b[0;31mTypeError\u001b[0m                                 Traceback (most recent call last)",
      "Cell \u001b[0;32mIn[6], line 2\u001b[0m\n\u001b[1;32m      1\u001b[0m \u001b[38;5;66;03m## Try it on mylist3 - it will break!\u001b[39;00m\n\u001b[0;32m----> 2\u001b[0m \u001b[43mmake_abs\u001b[49m\u001b[43m(\u001b[49m\u001b[43mmylist2\u001b[49m\u001b[43m)\u001b[49m\n",
      "Cell \u001b[0;32mIn[5], line 2\u001b[0m, in \u001b[0;36mmake_abs\u001b[0;34m(a_number)\u001b[0m\n\u001b[1;32m      1\u001b[0m \u001b[38;5;28;01mdef\u001b[39;00m \u001b[38;5;21mmake_abs\u001b[39m(a_number):\n\u001b[0;32m----> 2\u001b[0m     \u001b[38;5;28;01mreturn\u001b[39;00m \u001b[38;5;28;43mabs\u001b[39;49m\u001b[43m(\u001b[49m\u001b[43ma_number\u001b[49m\u001b[43m)\u001b[49m\n",
      "\u001b[0;31mTypeError\u001b[0m: bad operand type for abs(): 'list'"
     ]
    }
   ],
   "source": [
    "## Try it on mylist3 - it will break!\n",
    "make_abs(mylist2)"
   ]
  },
  {
   "cell_type": "code",
   "execution_count": 8,
   "id": "82a1c8c7",
   "metadata": {},
   "outputs": [
    {
     "data": {
      "text/plain": [
       "10"
      ]
     },
     "execution_count": 8,
     "metadata": {},
     "output_type": "execute_result"
    }
   ],
   "source": [
    "## A single number works\n",
    "make_abs(-10)"
   ]
  },
  {
   "cell_type": "markdown",
   "id": "0c6f7cb8",
   "metadata": {},
   "source": [
    "## That's not flexible or universal.\n",
    "\n",
    "Now our ```function``` can't take a list.\n",
    "\n",
    "But we can use the ```map()``` function to tackle this problem.\n",
    "\n",
    "```map()``` takes 2 arguments: a ```function``` and ```iterable like a list```.\n",
    "\n"
   ]
  },
  {
   "cell_type": "code",
   "execution_count": 11,
   "id": "96d2d46c",
   "metadata": {},
   "outputs": [
    {
     "data": {
      "text/plain": [
       "[-100, -200, 100, -300, -100]"
      ]
     },
     "execution_count": 11,
     "metadata": {},
     "output_type": "execute_result"
    }
   ],
   "source": [
    "mylist3"
   ]
  },
  {
   "cell_type": "code",
   "execution_count": 10,
   "id": "47cabcee",
   "metadata": {},
   "outputs": [
    {
     "data": {
      "text/plain": [
       "[100, 200, 100, 300, 100]"
      ]
     },
     "execution_count": 10,
     "metadata": {},
     "output_type": "execute_result"
    }
   ],
   "source": [
    "## try it on make_abs and mylist3\n",
    "list(map(make_abs, mylist3))"
   ]
  },
  {
   "cell_type": "code",
   "execution_count": 12,
   "id": "9e97fbaf",
   "metadata": {},
   "outputs": [
    {
     "data": {
      "text/plain": [
       "[100, 200, 100, 300, 100]"
      ]
     },
     "execution_count": 12,
     "metadata": {},
     "output_type": "execute_result"
    }
   ],
   "source": [
    "## save it into a list\n",
    "mylist3_updated = list(map(make_abs, mylist3))\n",
    "mylist3_updated"
   ]
  },
  {
   "cell_type": "markdown",
   "id": "bcae19ca",
   "metadata": {},
   "source": [
    "## ```map()``` also works for multiple iterables"
   ]
  },
  {
   "cell_type": "code",
   "execution_count": 13,
   "id": "37f573a5",
   "metadata": {},
   "outputs": [],
   "source": [
    "## function to add 2 numbers:\n",
    "def addNumbers(number1, number2):\n",
    "    return (number1+number2)"
   ]
  },
  {
   "cell_type": "code",
   "execution_count": 14,
   "id": "646ac2ff",
   "metadata": {},
   "outputs": [],
   "source": [
    "## run this cell of two lists\n",
    "a_even = [2, 4, 6, 8]\n",
    "a_odd = [1, 3, 5, 7, 9] ## note this has one more item in the list."
   ]
  },
  {
   "cell_type": "code",
   "execution_count": 16,
   "id": "55a29673",
   "metadata": {},
   "outputs": [
    {
     "data": {
      "text/plain": [
       "[3, 7, 11, 15]"
      ]
     },
     "execution_count": 16,
     "metadata": {},
     "output_type": "execute_result"
    }
   ],
   "source": [
    "## run map on a_even and a_odd\n",
    "list(map(addNumbers, a_even, a_odd))"
   ]
  },
  {
   "cell_type": "markdown",
   "id": "1a2d8d89",
   "metadata": {},
   "source": [
    "## Functions that call other funcions"
   ]
  },
  {
   "cell_type": "code",
   "execution_count": 17,
   "id": "d843bfb6",
   "metadata": {},
   "outputs": [],
   "source": [
    "## let's create a function that returns the square of a number\n",
    "def sq_me(number):\n",
    "    return pow(number, 2)\n",
    "#     return number **2\n",
    "#     return number * number\n"
   ]
  },
  {
   "cell_type": "code",
   "execution_count": 18,
   "id": "0ff9680d",
   "metadata": {},
   "outputs": [
    {
     "data": {
      "text/plain": [
       "16"
      ]
     },
     "execution_count": 18,
     "metadata": {},
     "output_type": "execute_result"
    }
   ],
   "source": [
    "## what is 9 squared?\n",
    "sq_me(4)"
   ]
  },
  {
   "cell_type": "markdown",
   "id": "ed2969fe",
   "metadata": {},
   "source": [
    "### Making a point here with a simple example\n",
    "Let's say we want to add 2 numbers together and then square that result.\n",
    "\n",
    "Instead of writing one \"complex\" function, we can call on our modular functions."
   ]
  },
  {
   "cell_type": "code",
   "execution_count": 19,
   "id": "b235cd54",
   "metadata": {},
   "outputs": [],
   "source": [
    "## bloated function\n",
    "def bloated(number1, number2):\n",
    "    total = number1 + number2\n",
    "    return pow(total, 2)"
   ]
  },
  {
   "cell_type": "code",
   "execution_count": 20,
   "id": "f12ed87c",
   "metadata": {},
   "outputs": [],
   "source": [
    "## a function that calls our modular functions\n",
    "def mc_calc(number1, number2):\n",
    "    return sq_me(addNumbers(number1, number2))"
   ]
  },
  {
   "cell_type": "code",
   "execution_count": 21,
   "id": "7b49aa40",
   "metadata": {},
   "outputs": [
    {
     "data": {
      "text/plain": [
       "49"
      ]
     },
     "execution_count": 21,
     "metadata": {},
     "output_type": "execute_result"
    }
   ],
   "source": [
    "## call mc_calc() on 2 and 5\n",
    "mc_calc(2, 5)"
   ]
  },
  {
   "cell_type": "code",
   "execution_count": null,
   "id": "ca6efd19",
   "metadata": {},
   "outputs": [],
   "source": []
  }
 ],
 "metadata": {
  "kernelspec": {
   "display_name": "Python 3 (ipykernel)",
   "language": "python",
   "name": "python3"
  },
  "language_info": {
   "codemirror_mode": {
    "name": "ipython",
    "version": 3
   },
   "file_extension": ".py",
   "mimetype": "text/x-python",
   "name": "python",
   "nbconvert_exporter": "python",
   "pygments_lexer": "ipython3",
   "version": "3.9.7"
  }
 },
 "nbformat": 4,
 "nbformat_minor": 5
}
