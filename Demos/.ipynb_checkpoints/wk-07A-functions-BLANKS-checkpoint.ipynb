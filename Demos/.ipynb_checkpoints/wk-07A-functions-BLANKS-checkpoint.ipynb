{
 "cells": [
  {
   "cell_type": "markdown",
   "id": "3dc2667e",
   "metadata": {},
   "source": [
    "# Functions - Part 2\n",
    "\n",
    "### Adding Flexibility"
   ]
  },
  {
   "cell_type": "code",
   "execution_count": null,
   "id": "859af296",
   "metadata": {},
   "outputs": [],
   "source": [
    "## RUN THIS CELL\n",
    "## Each list of numbers has to be turned into absolute numbers \n",
    "mylist1 = [1, -5, 22, -44.2, 33, -45]\n",
    "mylist2 = [-56, -34, -75, -111, -22]\n",
    "mylist3 = [-100, -200, 100, -300, -100]\n",
    "mylist4 = [-23, -89, -11, -45, -27]\n",
    "mylist5 = [0, 1, 2, 3, 4, 5]"
   ]
  },
  {
   "cell_type": "code",
   "execution_count": null,
   "id": "d035ea17",
   "metadata": {},
   "outputs": [],
   "source": [
    "## Our function from last week to turn a number into an absolute value\n",
    "\n"
   ]
  },
  {
   "cell_type": "code",
   "execution_count": null,
   "id": "5fb70221",
   "metadata": {},
   "outputs": [],
   "source": [
    "## test it here on a list\n",
    "## and store in variable\n"
   ]
  },
  {
   "cell_type": "markdown",
   "id": "dff7c12d",
   "metadata": {},
   "source": [
    "## Make a function more flexible and universal\n",
    "\n",
    "* Currently, we have a function that takes ONLY a list as an argument.\n",
    "* We'd have to write another one for a single number argument."
   ]
  },
  {
   "cell_type": "code",
   "execution_count": null,
   "id": "8304ead5",
   "metadata": {},
   "outputs": [],
   "source": [
    "## try using it on a single number like -10\n",
    "## it will break\n"
   ]
  },
  {
   "cell_type": "markdown",
   "id": "40f6de73",
   "metadata": {},
   "source": [
    "## Universalize our absolute numbers function"
   ]
  },
  {
   "cell_type": "code",
   "execution_count": null,
   "id": "1e457cfc",
   "metadata": {},
   "outputs": [],
   "source": [
    "## name the function make_abs\n"
   ]
  },
  {
   "cell_type": "code",
   "execution_count": null,
   "id": "0afaf09f",
   "metadata": {},
   "outputs": [],
   "source": [
    "## Try it on mylist3 - it will break!\n"
   ]
  },
  {
   "cell_type": "code",
   "execution_count": null,
   "id": "82a1c8c7",
   "metadata": {},
   "outputs": [],
   "source": [
    "## A single number works\n"
   ]
  },
  {
   "cell_type": "markdown",
   "id": "0c6f7cb8",
   "metadata": {},
   "source": [
    "## That's not flexible or universal.\n",
    "\n",
    "Now our ```function``` can't take a list.\n",
    "\n",
    "But we can use the ```map()``` function to tackle this problem.\n",
    "\n",
    "```map()``` takes 2 arguments: a ```function``` and ```iterable like a list```.\n",
    "\n"
   ]
  },
  {
   "cell_type": "code",
   "execution_count": null,
   "id": "47cabcee",
   "metadata": {},
   "outputs": [],
   "source": [
    "## try it on make_abs and mylist3\n"
   ]
  },
  {
   "cell_type": "code",
   "execution_count": null,
   "id": "9e97fbaf",
   "metadata": {},
   "outputs": [],
   "source": [
    "## save it into a list\n"
   ]
  },
  {
   "cell_type": "markdown",
   "id": "bcae19ca",
   "metadata": {},
   "source": [
    "## ```map()``` also works for multiple iterables"
   ]
  },
  {
   "cell_type": "code",
   "execution_count": null,
   "id": "37f573a5",
   "metadata": {},
   "outputs": [],
   "source": [
    "## function to add 2 numbers:\n"
   ]
  },
  {
   "cell_type": "code",
   "execution_count": null,
   "id": "646ac2ff",
   "metadata": {},
   "outputs": [],
   "source": [
    "## run this cell of two lists\n",
    "a_even = [2, 4, 6, 8]\n",
    "a_odd = [1, 3, 5, 7, 9] ## note this has one more item in the list."
   ]
  },
  {
   "cell_type": "code",
   "execution_count": null,
   "id": "55a29673",
   "metadata": {},
   "outputs": [],
   "source": [
    "## run map on a_even and a_odd\n"
   ]
  },
  {
   "cell_type": "markdown",
   "id": "1a2d8d89",
   "metadata": {},
   "source": [
    "## Functions that call other funcions"
   ]
  },
  {
   "cell_type": "code",
   "execution_count": null,
   "id": "d843bfb6",
   "metadata": {},
   "outputs": [],
   "source": [
    "## let's create a function that returns the square of a number\n",
    "\n"
   ]
  },
  {
   "cell_type": "code",
   "execution_count": null,
   "id": "0ff9680d",
   "metadata": {},
   "outputs": [],
   "source": [
    "## what is 9 squared?\n"
   ]
  },
  {
   "cell_type": "markdown",
   "id": "ed2969fe",
   "metadata": {},
   "source": [
    "### Making a point here with a simple example\n",
    "Let's say we want to add 2 numbers together and then square that result.\n",
    "\n",
    "Instead of writing one \"complex\" function, we can call on our modular functions."
   ]
  },
  {
   "cell_type": "code",
   "execution_count": null,
   "id": "b235cd54",
   "metadata": {},
   "outputs": [],
   "source": [
    "## bloated function\n"
   ]
  },
  {
   "cell_type": "code",
   "execution_count": null,
   "id": "f12ed87c",
   "metadata": {},
   "outputs": [],
   "source": [
    "## a function that calls our modular functions\n"
   ]
  },
  {
   "cell_type": "code",
   "execution_count": null,
   "id": "7b49aa40",
   "metadata": {},
   "outputs": [],
   "source": [
    "## call make_point() on 2 and 5\n"
   ]
  },
  {
   "cell_type": "code",
   "execution_count": null,
   "id": "ca6efd19",
   "metadata": {},
   "outputs": [],
   "source": []
  }
 ],
 "metadata": {
  "kernelspec": {
   "display_name": "Python 3 (ipykernel)",
   "language": "python",
   "name": "python3"
  },
  "language_info": {
   "codemirror_mode": {
    "name": "ipython",
    "version": 3
   },
   "file_extension": ".py",
   "mimetype": "text/x-python",
   "name": "python",
   "nbconvert_exporter": "python",
   "pygments_lexer": "ipython3",
   "version": "3.9.7"
  }
 },
 "nbformat": 4,
 "nbformat_minor": 5
}
