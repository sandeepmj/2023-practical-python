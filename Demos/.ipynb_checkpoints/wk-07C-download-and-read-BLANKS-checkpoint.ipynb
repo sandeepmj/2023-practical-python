{
 "cells": [
  {
   "cell_type": "markdown",
   "metadata": {
    "id": "fv1F1HyA9zmX"
   },
   "source": [
    "# Dowload, Capture, Structure\n",
    "\n",
    "For your homework you downloaded **all** the files on <a href=\"https://sandeepmj.github.io/scrape-example-page/pages.html\">the demo site</a>. \n",
    "\n",
    "Let's say we have all the files <a href=\"https://drive.google.com/file/d/1med3kfLnfkGy2WChtp-Pdsa5QO6Mp569/view?usp=share_link\">in this folder</a>. Download this folder and move it next to your ```.ipynb``` file. (Soon we'll learn how to do this programmatically.)\n",
    "\n",
    "### Goal:\n",
    "\n",
    "Create a dataframe that holds:\n",
    "\n",
    "- name of the renter, \n",
    "- whether their lease of renewed or terminated,\n",
    "- the name of the source file."
   ]
  },
  {
   "cell_type": "code",
   "execution_count": 20,
   "metadata": {
    "id": "m2ru6dyM9zmb"
   },
   "outputs": [],
   "source": [
    "# import libraries\n",
    "\n"
   ]
  },
  {
   "cell_type": "markdown",
   "metadata": {
    "id": "lJMGDK6Uh5-h"
   },
   "source": [
    "# Giving structure to unstructured data"
   ]
  },
  {
   "cell_type": "code",
   "execution_count": 26,
   "metadata": {
    "id": "yFKQYyAiGbYH"
   },
   "outputs": [
    {
     "data": {
      "text/plain": [
       "['my_downloads/text_doc_01.txt',\n",
       " 'my_downloads/text_doc_02.txt',\n",
       " 'my_downloads/text_doc_03.txt',\n",
       " 'my_downloads/text_doc_04.txt',\n",
       " 'my_downloads/text_doc_05.txt',\n",
       " 'my_downloads/text_doc_06.txt',\n",
       " 'my_downloads/text_doc_07.txt',\n",
       " 'my_downloads/text_doc_08.txt',\n",
       " 'my_downloads/text_doc_09.txt',\n",
       " 'my_downloads/text_doc_10.txt',\n",
       " 'my_downloads/text_doc_A.txt',\n",
       " 'my_downloads/text_doc_B.txt',\n",
       " 'my_downloads/text_doc_C.txt',\n",
       " 'my_downloads/text_doc_D.txt',\n",
       " 'my_downloads/text_doc_E.txt',\n",
       " 'my_downloads/text_doc_F.txt',\n",
       " 'my_downloads/text_doc_G.txt',\n",
       " 'my_downloads/text_doc_H.txt',\n",
       " 'my_downloads/text_doc_I.txt',\n",
       " 'my_downloads/text_doc_J.txt']"
      ]
     },
     "execution_count": 26,
     "metadata": {},
     "output_type": "execute_result"
    }
   ],
   "source": [
    "## pull ONLY all txt files into our notebook\n"
   ]
  },
  {
   "cell_type": "code",
   "execution_count": 27,
   "metadata": {
    "id": "fqN9xmTuD-Ao"
   },
   "outputs": [
    {
     "name": "stdout",
     "output_type": "stream",
     "text": [
      "my_downloads/text_doc_01.txt\n",
      "['Client: Pen Federal Credit Union\\n', '\\n', 'The decision is to renew rental agreement.']\n",
      "my_downloads/text_doc_02.txt\n",
      "['Client: Help Desk Inc.\\n', '\\n', 'The decision is to renew rental agreement.']\n",
      "my_downloads/text_doc_03.txt\n",
      "[\"Client: Global Wax n' Wane\\n\", '\\n', 'The decision is to renew rental agreement.']\n",
      "my_downloads/text_doc_04.txt\n",
      "['Client: Kick Box\\n', '\\n', 'The decision is to terminate lease agreement.']\n",
      "my_downloads/text_doc_05.txt\n",
      "['Client: RedKey Inc.\\n', '\\n', 'The decision is to terminate lease agreement.']\n",
      "my_downloads/text_doc_06.txt\n",
      "['Client: Clip-n-Chip\\n', '\\n', 'The decision is to terminate lease agreement.']\n",
      "my_downloads/text_doc_07.txt\n",
      "['Client: CoLens Limited\\n', '\\n', 'The decision is to terminate lease agreement.']\n",
      "my_downloads/text_doc_08.txt\n",
      "['Client: Diceware Inc.\\n', '\\n', 'The decision is to renew rental agreement.']\n",
      "my_downloads/text_doc_09.txt\n",
      "['Client: Teflon Inc.\\n', '\\n', 'The decision is to terminate lease agreement.']\n",
      "my_downloads/text_doc_10.txt\n",
      "['Client: RBG Inc.\\n', '\\n', 'The decision is to renew rental agreement.']\n",
      "my_downloads/text_doc_A.txt\n",
      "['Client: Pumkin Spice Corp\\n', '\\n', 'The decision is to renew rental agreement.']\n",
      "my_downloads/text_doc_B.txt\n",
      "['Client: Camera AI\\n', '\\n', 'The decision is to renew rental agreement.']\n",
      "my_downloads/text_doc_C.txt\n",
      "['Client: Glassware Design\\n', '\\n', 'The decision is to terminate rental agreement.']\n",
      "my_downloads/text_doc_D.txt\n",
      "['Client: Check Cashing\\n', '\\n', 'The decision is to terminate lease agreement.']\n",
      "my_downloads/text_doc_E.txt\n",
      "['Client: Ramp Lamp Corp.\\n', '\\n', 'The decision is to terminate lease agreement.']\n",
      "my_downloads/text_doc_F.txt\n",
      "['Client: Cap-n-Gown Inc.\\n', '\\n', 'The decision is to renew lease agreement.']\n",
      "my_downloads/text_doc_G.txt\n",
      "['Client: Crooked Curve Association\\n', '\\n', 'The decision is to renew lease agreement.']\n",
      "my_downloads/text_doc_H.txt\n",
      "['Client: Pet Bed Nation Inc.\\n', '\\n', 'The decision is to renew rental agreement.']\n",
      "my_downloads/text_doc_I.txt\n",
      "['Client: Flower Power\\n', '\\n', 'The decision is to renew lease agreement.']\n",
      "my_downloads/text_doc_J.txt\n",
      "['Client: Speaker List Bureau\\n', '\\n', 'The decision is to renew rental agreement.']\n"
     ]
    }
   ],
   "source": [
    "## let's see what the first line of each file contains\n",
    "\n"
   ]
  },
  {
   "cell_type": "code",
   "execution_count": 1,
   "metadata": {
    "id": "WmZYM2D4D99U"
   },
   "outputs": [],
   "source": [
    "## create a list of dictionaries that holds the renter name, \n",
    "## lease decision, and source file\n",
    "\n",
    "\n"
   ]
  },
  {
   "cell_type": "code",
   "execution_count": 29,
   "metadata": {},
   "outputs": [
    {
     "data": {
      "text/plain": [
       "[{'client': 'Pen Federal Credit Union',\n",
       "  'decision': 'renew',\n",
       "  'source': 'my_downloads/text_doc_01.txt'},\n",
       " {'client': 'Help Desk Inc.',\n",
       "  'decision': 'renew',\n",
       "  'source': 'my_downloads/text_doc_02.txt'},\n",
       " {'client': \"Global Wax n' Wane\",\n",
       "  'decision': 'renew',\n",
       "  'source': 'my_downloads/text_doc_03.txt'},\n",
       " {'client': 'Kick Box',\n",
       "  'decision': 'terminate',\n",
       "  'source': 'my_downloads/text_doc_04.txt'},\n",
       " {'client': 'RedKey Inc.',\n",
       "  'decision': 'terminate',\n",
       "  'source': 'my_downloads/text_doc_05.txt'},\n",
       " {'client': 'Clip-n-Chip',\n",
       "  'decision': 'terminate',\n",
       "  'source': 'my_downloads/text_doc_06.txt'},\n",
       " {'client': 'CoLens Limited',\n",
       "  'decision': 'terminate',\n",
       "  'source': 'my_downloads/text_doc_07.txt'},\n",
       " {'client': 'Diceware Inc.',\n",
       "  'decision': 'renew',\n",
       "  'source': 'my_downloads/text_doc_08.txt'},\n",
       " {'client': 'Teflon Inc.',\n",
       "  'decision': 'terminate',\n",
       "  'source': 'my_downloads/text_doc_09.txt'},\n",
       " {'client': 'RBG Inc.',\n",
       "  'decision': 'renew',\n",
       "  'source': 'my_downloads/text_doc_10.txt'},\n",
       " {'client': 'Pumkin Spice Corp',\n",
       "  'decision': 'renew',\n",
       "  'source': 'my_downloads/text_doc_A.txt'},\n",
       " {'client': 'Camera AI',\n",
       "  'decision': 'renew',\n",
       "  'source': 'my_downloads/text_doc_B.txt'},\n",
       " {'client': 'Glassware Design',\n",
       "  'decision': 'terminate',\n",
       "  'source': 'my_downloads/text_doc_C.txt'},\n",
       " {'client': 'Check Cashing',\n",
       "  'decision': 'terminate',\n",
       "  'source': 'my_downloads/text_doc_D.txt'},\n",
       " {'client': 'Ramp Lamp Corp.',\n",
       "  'decision': 'terminate',\n",
       "  'source': 'my_downloads/text_doc_E.txt'},\n",
       " {'client': 'Cap-n-Gown Inc.',\n",
       "  'decision': 'renew',\n",
       "  'source': 'my_downloads/text_doc_F.txt'},\n",
       " {'client': 'Crooked Curve Association',\n",
       "  'decision': 'renew',\n",
       "  'source': 'my_downloads/text_doc_G.txt'},\n",
       " {'client': 'Pet Bed Nation Inc.',\n",
       "  'decision': 'renew',\n",
       "  'source': 'my_downloads/text_doc_H.txt'},\n",
       " {'client': 'Flower Power',\n",
       "  'decision': 'renew',\n",
       "  'source': 'my_downloads/text_doc_I.txt'},\n",
       " {'client': 'Speaker List Bureau',\n",
       "  'decision': 'renew',\n",
       "  'source': 'my_downloads/text_doc_J.txt'}]"
      ]
     },
     "execution_count": 29,
     "metadata": {},
     "output_type": "execute_result"
    }
   ],
   "source": [
    "## call that list of dictionaries\n"
   ]
  },
  {
   "cell_type": "code",
   "execution_count": 30,
   "metadata": {},
   "outputs": [
    {
     "data": {
      "text/html": [
       "<div>\n",
       "<style scoped>\n",
       "    .dataframe tbody tr th:only-of-type {\n",
       "        vertical-align: middle;\n",
       "    }\n",
       "\n",
       "    .dataframe tbody tr th {\n",
       "        vertical-align: top;\n",
       "    }\n",
       "\n",
       "    .dataframe thead th {\n",
       "        text-align: right;\n",
       "    }\n",
       "</style>\n",
       "<table border=\"1\" class=\"dataframe\">\n",
       "  <thead>\n",
       "    <tr style=\"text-align: right;\">\n",
       "      <th></th>\n",
       "      <th>client</th>\n",
       "      <th>decision</th>\n",
       "      <th>source</th>\n",
       "    </tr>\n",
       "  </thead>\n",
       "  <tbody>\n",
       "    <tr>\n",
       "      <th>0</th>\n",
       "      <td>Pen Federal Credit Union</td>\n",
       "      <td>renew</td>\n",
       "      <td>my_downloads/text_doc_01.txt</td>\n",
       "    </tr>\n",
       "    <tr>\n",
       "      <th>1</th>\n",
       "      <td>Help Desk Inc.</td>\n",
       "      <td>renew</td>\n",
       "      <td>my_downloads/text_doc_02.txt</td>\n",
       "    </tr>\n",
       "    <tr>\n",
       "      <th>2</th>\n",
       "      <td>Global Wax n' Wane</td>\n",
       "      <td>renew</td>\n",
       "      <td>my_downloads/text_doc_03.txt</td>\n",
       "    </tr>\n",
       "    <tr>\n",
       "      <th>3</th>\n",
       "      <td>Kick Box</td>\n",
       "      <td>terminate</td>\n",
       "      <td>my_downloads/text_doc_04.txt</td>\n",
       "    </tr>\n",
       "    <tr>\n",
       "      <th>4</th>\n",
       "      <td>RedKey Inc.</td>\n",
       "      <td>terminate</td>\n",
       "      <td>my_downloads/text_doc_05.txt</td>\n",
       "    </tr>\n",
       "    <tr>\n",
       "      <th>5</th>\n",
       "      <td>Clip-n-Chip</td>\n",
       "      <td>terminate</td>\n",
       "      <td>my_downloads/text_doc_06.txt</td>\n",
       "    </tr>\n",
       "    <tr>\n",
       "      <th>6</th>\n",
       "      <td>CoLens Limited</td>\n",
       "      <td>terminate</td>\n",
       "      <td>my_downloads/text_doc_07.txt</td>\n",
       "    </tr>\n",
       "    <tr>\n",
       "      <th>7</th>\n",
       "      <td>Diceware Inc.</td>\n",
       "      <td>renew</td>\n",
       "      <td>my_downloads/text_doc_08.txt</td>\n",
       "    </tr>\n",
       "    <tr>\n",
       "      <th>8</th>\n",
       "      <td>Teflon Inc.</td>\n",
       "      <td>terminate</td>\n",
       "      <td>my_downloads/text_doc_09.txt</td>\n",
       "    </tr>\n",
       "    <tr>\n",
       "      <th>9</th>\n",
       "      <td>RBG Inc.</td>\n",
       "      <td>renew</td>\n",
       "      <td>my_downloads/text_doc_10.txt</td>\n",
       "    </tr>\n",
       "    <tr>\n",
       "      <th>10</th>\n",
       "      <td>Pumkin Spice Corp</td>\n",
       "      <td>renew</td>\n",
       "      <td>my_downloads/text_doc_A.txt</td>\n",
       "    </tr>\n",
       "    <tr>\n",
       "      <th>11</th>\n",
       "      <td>Camera AI</td>\n",
       "      <td>renew</td>\n",
       "      <td>my_downloads/text_doc_B.txt</td>\n",
       "    </tr>\n",
       "    <tr>\n",
       "      <th>12</th>\n",
       "      <td>Glassware Design</td>\n",
       "      <td>terminate</td>\n",
       "      <td>my_downloads/text_doc_C.txt</td>\n",
       "    </tr>\n",
       "    <tr>\n",
       "      <th>13</th>\n",
       "      <td>Check Cashing</td>\n",
       "      <td>terminate</td>\n",
       "      <td>my_downloads/text_doc_D.txt</td>\n",
       "    </tr>\n",
       "    <tr>\n",
       "      <th>14</th>\n",
       "      <td>Ramp Lamp Corp.</td>\n",
       "      <td>terminate</td>\n",
       "      <td>my_downloads/text_doc_E.txt</td>\n",
       "    </tr>\n",
       "    <tr>\n",
       "      <th>15</th>\n",
       "      <td>Cap-n-Gown Inc.</td>\n",
       "      <td>renew</td>\n",
       "      <td>my_downloads/text_doc_F.txt</td>\n",
       "    </tr>\n",
       "    <tr>\n",
       "      <th>16</th>\n",
       "      <td>Crooked Curve Association</td>\n",
       "      <td>renew</td>\n",
       "      <td>my_downloads/text_doc_G.txt</td>\n",
       "    </tr>\n",
       "    <tr>\n",
       "      <th>17</th>\n",
       "      <td>Pet Bed Nation Inc.</td>\n",
       "      <td>renew</td>\n",
       "      <td>my_downloads/text_doc_H.txt</td>\n",
       "    </tr>\n",
       "    <tr>\n",
       "      <th>18</th>\n",
       "      <td>Flower Power</td>\n",
       "      <td>renew</td>\n",
       "      <td>my_downloads/text_doc_I.txt</td>\n",
       "    </tr>\n",
       "    <tr>\n",
       "      <th>19</th>\n",
       "      <td>Speaker List Bureau</td>\n",
       "      <td>renew</td>\n",
       "      <td>my_downloads/text_doc_J.txt</td>\n",
       "    </tr>\n",
       "  </tbody>\n",
       "</table>\n",
       "</div>"
      ],
      "text/plain": [
       "                       client   decision                        source\n",
       "0    Pen Federal Credit Union      renew  my_downloads/text_doc_01.txt\n",
       "1              Help Desk Inc.      renew  my_downloads/text_doc_02.txt\n",
       "2          Global Wax n' Wane      renew  my_downloads/text_doc_03.txt\n",
       "3                    Kick Box  terminate  my_downloads/text_doc_04.txt\n",
       "4                 RedKey Inc.  terminate  my_downloads/text_doc_05.txt\n",
       "5                 Clip-n-Chip  terminate  my_downloads/text_doc_06.txt\n",
       "6              CoLens Limited  terminate  my_downloads/text_doc_07.txt\n",
       "7               Diceware Inc.      renew  my_downloads/text_doc_08.txt\n",
       "8                 Teflon Inc.  terminate  my_downloads/text_doc_09.txt\n",
       "9                    RBG Inc.      renew  my_downloads/text_doc_10.txt\n",
       "10          Pumkin Spice Corp      renew   my_downloads/text_doc_A.txt\n",
       "11                  Camera AI      renew   my_downloads/text_doc_B.txt\n",
       "12           Glassware Design  terminate   my_downloads/text_doc_C.txt\n",
       "13              Check Cashing  terminate   my_downloads/text_doc_D.txt\n",
       "14            Ramp Lamp Corp.  terminate   my_downloads/text_doc_E.txt\n",
       "15            Cap-n-Gown Inc.      renew   my_downloads/text_doc_F.txt\n",
       "16  Crooked Curve Association      renew   my_downloads/text_doc_G.txt\n",
       "17        Pet Bed Nation Inc.      renew   my_downloads/text_doc_H.txt\n",
       "18               Flower Power      renew   my_downloads/text_doc_I.txt\n",
       "19        Speaker List Bureau      renew   my_downloads/text_doc_J.txt"
      ]
     },
     "execution_count": 30,
     "metadata": {},
     "output_type": "execute_result"
    }
   ],
   "source": [
    "## turn into df\n"
   ]
  }
 ],
 "metadata": {
  "celltoolbar": "Slideshow",
  "colab": {
   "collapsed_sections": [],
   "name": "week-8C-download-and-read_BLANK.ipynb",
   "provenance": [
    {
     "file_id": "1O76yK1JGDPc1kRTHTOIDjev2XbLGExhv",
     "timestamp": 1646785092936
    },
    {
     "file_id": "1U8zDTAuA8NQ2JaDzSqzSn03P2iT8KFLG",
     "timestamp": 1639579061177
    },
    {
     "file_id": "1tC30RwvbvYZQU9bLZ75I6kBbMski9LFN",
     "timestamp": 1628626954402
    }
   ]
  },
  "kernelspec": {
   "display_name": "Python 3 (ipykernel)",
   "language": "python",
   "name": "python3"
  },
  "language_info": {
   "codemirror_mode": {
    "name": "ipython",
    "version": 3
   },
   "file_extension": ".py",
   "mimetype": "text/x-python",
   "name": "python",
   "nbconvert_exporter": "python",
   "pygments_lexer": "ipython3",
   "version": "3.9.7"
  }
 },
 "nbformat": 4,
 "nbformat_minor": 1
}
