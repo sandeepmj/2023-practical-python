{
 "cells": [
  {
   "cell_type": "markdown",
   "metadata": {
    "id": "_nLIMxqRI2XZ"
   },
   "source": [
    "# Single Page, Single Table\n",
    "\n",
    "\n",
    "### We want to scrape a table that contains favorite morning drinks on this <a href=\"https://sandeepmj.github.io/scrape-example-page/\">demo page</a>.\n",
    "\n",
    "The webpage is ```https://sandeepmj.github.io/scrape-example-page/```"
   ]
  },
  {
   "cell_type": "code",
   "execution_count": null,
   "metadata": {
    "id": "qhVSrceWHhCb"
   },
   "outputs": [],
   "source": [
    "## import libraries"
   ]
  },
  {
   "cell_type": "code",
   "execution_count": null,
   "metadata": {
    "id": "UD_4WFVaHhCf"
   },
   "outputs": [],
   "source": [
    "##scrape url website\n"
   ]
  },
  {
   "cell_type": "code",
   "execution_count": null,
   "metadata": {
    "id": "VeNoSuW9HhCl"
   },
   "outputs": [],
   "source": [
    "## MUST turn html into a string\n"
   ]
  },
  {
   "cell_type": "code",
   "execution_count": null,
   "metadata": {
    "id": "MeNtL-t7HhCn"
   },
   "outputs": [],
   "source": [
    "## use Pandas to read tables on page\n"
   ]
  },
  {
   "cell_type": "markdown",
   "metadata": {
    "id": "1OTCj16GI2XZ"
   },
   "source": [
    "## what type of object is ```tables```?"
   ]
  },
  {
   "cell_type": "code",
   "execution_count": null,
   "metadata": {
    "id": "oElDyYWBI2Xa"
   },
   "outputs": [],
   "source": [
    "## show type of object\n"
   ]
  },
  {
   "cell_type": "markdown",
   "metadata": {
    "id": "zDSclj7DI2Xa"
   },
   "source": [
    "## As a demo, let's target the first table and export it as a CSV."
   ]
  },
  {
   "cell_type": "code",
   "execution_count": null,
   "metadata": {
    "id": "wuJ4Ti0GHhCq"
   },
   "outputs": [],
   "source": [
    "## let's look at the first table:\n"
   ]
  },
  {
   "cell_type": "code",
   "execution_count": null,
   "metadata": {
    "id": "r_uFdhmlI2Xa"
   },
   "outputs": [],
   "source": [
    "## we store it in a new variable, or dataframe:\n"
   ]
  },
  {
   "cell_type": "code",
   "execution_count": null,
   "metadata": {
    "id": "AQX8d8bDI2Xa"
   },
   "outputs": [],
   "source": [
    "## Let's look at what type of object it is:\n"
   ]
  },
  {
   "cell_type": "code",
   "execution_count": null,
   "metadata": {
    "id": "fZnk2tqFI2Xa",
    "scrolled": true
   },
   "outputs": [],
   "source": [
    "## use pandas to write to csv file\n"
   ]
  },
  {
   "cell_type": "markdown",
   "metadata": {
    "id": "v2FT9blfI2Xa"
   },
   "source": [
    "## The old way"
   ]
  },
  {
   "cell_type": "markdown",
   "metadata": {
    "id": "t-jff4CtI2Xa"
   },
   "source": [
    "## The reason I didn't assign a video or reading on scraping tables\n",
    "\n",
    "* Most tutorials on scraping tables are convoluted and inefficient.\n",
    "* Many aren't using the most modern methods (probably because people keep doing what they already know how to do...)\n",
    "\n",
    "\n"
   ]
  },
  {
   "cell_type": "markdown",
   "metadata": {
    "id": "tL02jzFSI2Xa"
   },
   "source": [
    "## Grab the correct table onward:\n",
    "<img src=\"https://github.com/sandeepmj/fall20-student-practical-python/raw/682ec7738eb7e2d8748e3566846939c5264cab44/support_files/grab-data.png\">"
   ]
  },
  {
   "cell_type": "markdown",
   "metadata": {
    "id": "xrryX6oXI2Xa"
   },
   "source": [
    "## Export to CSV:\n",
    "<img src=\"https://github.com/sandeepmj/fall20-student-practical-python/raw/682ec7738eb7e2d8748e3566846939c5264cab44/support_files/export-csv.png\">"
   ]
  },
  {
   "cell_type": "code",
   "execution_count": null,
   "metadata": {
    "id": "SmWYyLkaJXhb"
   },
   "outputs": [],
   "source": []
  }
 ],
 "metadata": {
  "celltoolbar": "Slideshow",
  "colab": {
   "provenance": [
    {
     "file_id": "1Sr7TYNaGt6e5Tv8Om7UzZI9maF4BsJID",
     "timestamp": 1686694612402
    },
    {
     "file_id": "19IrKyzkGCq8R2X_RCH5RG4Rhe8xr3668",
     "timestamp": 1600346225593
    },
    {
     "file_id": "1D75QB2XYRMsyUpcKm63ee0GDycfX-g-i",
     "timestamp": 1599872538239
    }
   ]
  },
  "kernelspec": {
   "display_name": "Python 3",
   "language": "python",
   "name": "python3"
  },
  "language_info": {
   "codemirror_mode": {
    "name": "ipython",
    "version": 3
   },
   "file_extension": ".py",
   "mimetype": "text/x-python",
   "name": "python",
   "nbconvert_exporter": "python",
   "pygments_lexer": "ipython3",
   "version": "3.8.3"
  }
 },
 "nbformat": 4,
 "nbformat_minor": 0
}
