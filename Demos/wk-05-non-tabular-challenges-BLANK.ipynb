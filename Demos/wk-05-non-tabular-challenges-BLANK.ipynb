{
 "cells": [
  {
   "cell_type": "markdown",
   "metadata": {
    "id": "s1gmCxq4kQCP"
   },
   "source": [
    "# Challenges Scraping Non-Tabular Data\n",
    "\n",
    "On <a href=\"https://sandeepmj.github.io/scrape-example-page\">this demo page</a> I've reproduced several variations of issues we are likely to encounter when scraping.\n",
    "\n",
    "- Review scrape of an well-organized page.\n",
    "- Dynamically getting column names.\n",
    "- Scraping a disorganized page.\n",
    "- Excluding multi-classes.\n",
    "\n",
    "\n",
    "Let's start by scraping <a href=\"https://sandeepmj.github.io/scrape-example-page/#organized\">the organized CEO data</a>."
   ]
  },
  {
   "cell_type": "markdown",
   "metadata": {
    "id": "YfF9k_35kQCS"
   },
   "source": [
    "### The same steps each time:\n",
    "\n",
    "* Is the content on the page (use ```Reveal Source```)?\n",
    "* Where and how is the content held on the page?\n",
    "* Which classes and IDs do we target?\n",
    "* Is there a pattern?\n",
    "* Is there anything that breaks the pattern?"
   ]
  },
  {
   "cell_type": "code",
   "execution_count": null,
   "metadata": {
    "colab": {
     "base_uri": "https://localhost:8080/"
    },
    "id": "WuYnK-Sf8eWj",
    "outputId": "e4265877-373f-4c50-f8b3-7983d08104ae"
   },
   "outputs": [],
   "source": [
    "pip install icecream"
   ]
  },
  {
   "cell_type": "code",
   "execution_count": null,
   "metadata": {
    "id": "IoRTykDqkQCS"
   },
   "outputs": [],
   "source": [
    "## import libraries\n",
    "from bs4 import BeautifulSoup\n",
    "import pandas as pd\n",
    "import requests ## a library that returns information from websites.\n",
    "from icecream import ic"
   ]
  },
  {
   "cell_type": "code",
   "execution_count": null,
   "metadata": {
    "id": "jo-uJMwxHNTY"
   },
   "outputs": [],
   "source": [
    "## link to scrape\n"
   ]
  },
  {
   "cell_type": "code",
   "execution_count": null,
   "metadata": {
    "colab": {
     "base_uri": "https://localhost:8080/"
    },
    "id": "jQu4W-UVHNTY",
    "outputId": "cf32f559-c214-474a-8268-d8244bd87d98"
   },
   "outputs": [],
   "source": [
    "## request site html\n"
   ]
  },
  {
   "cell_type": "code",
   "execution_count": null,
   "metadata": {
    "colab": {
     "base_uri": "https://localhost:8080/"
    },
    "id": "8CvUVSZpHNTZ",
    "outputId": "aa4bb951-9db5-4f64-9584-62a9c6c55dc4"
   },
   "outputs": [],
   "source": [
    "## what type of data is this?\n"
   ]
  },
  {
   "cell_type": "code",
   "execution_count": null,
   "metadata": {
    "id": "vvBUDVELHNTZ"
   },
   "outputs": [],
   "source": [
    "## turn into soup\n"
   ]
  },
  {
   "cell_type": "code",
   "execution_count": null,
   "metadata": {
    "id": "rUipQalzHNTZ"
   },
   "outputs": [],
   "source": [
    "## call soup\n"
   ]
  },
  {
   "cell_type": "code",
   "execution_count": null,
   "metadata": {
    "colab": {
     "base_uri": "https://localhost:8080/"
    },
    "id": "MQcTMXykHNTa",
    "outputId": "e356623e-76da-4815-d334-14924d8dd632"
   },
   "outputs": [],
   "source": [
    "## what do we target? Which class or ID?\n"
   ]
  },
  {
   "cell_type": "code",
   "execution_count": null,
   "metadata": {
    "colab": {
     "base_uri": "https://localhost:8080/"
    },
    "id": "va1VZsaVHNTa",
    "outputId": "c5d1979c-0506-41a5-ef9b-e27c56cc7140"
   },
   "outputs": [],
   "source": [
    "## what type of data?\n",
    "## if list, we will need to iterate\n"
   ]
  },
  {
   "cell_type": "code",
   "execution_count": null,
   "metadata": {
    "colab": {
     "base_uri": "https://localhost:8080/"
    },
    "id": "64G-oom0HNTa",
    "outputId": "d2737177-97ef-449c-f84a-9fabcc309beb"
   },
   "outputs": [],
   "source": [
    "## Isolate to CEOs only rather than h2 etc\n"
   ]
  },
  {
   "cell_type": "code",
   "execution_count": null,
   "metadata": {
    "colab": {
     "base_uri": "https://localhost:8080/"
    },
    "id": "Qi999cPrHNTa",
    "outputId": "747ce0cb-e9e1-4a7a-8459-f142cb2f38bd"
   },
   "outputs": [],
   "source": [
    "## type?\n"
   ]
  },
  {
   "cell_type": "code",
   "execution_count": null,
   "metadata": {
    "colab": {
     "base_uri": "https://localhost:8080/"
    },
    "id": "fiye9FWmHNTa",
    "outputId": "e9fb2a38-4c3b-4235-efaf-81692d867ef9"
   },
   "outputs": [],
   "source": [
    "## length\n"
   ]
  },
  {
   "cell_type": "code",
   "execution_count": null,
   "metadata": {
    "colab": {
     "base_uri": "https://localhost:8080/"
    },
    "id": "Ekkd6SoWHNTa",
    "outputId": "2f2ce1da-a8de-4084-fc97-45c484cb3fe4"
   },
   "outputs": [],
   "source": [
    "## get all ranks into a list\n",
    "## via for loop\n"
   ]
  },
  {
   "cell_type": "code",
   "execution_count": null,
   "metadata": {
    "colab": {
     "base_uri": "https://localhost:8080/"
    },
    "id": "0MBV5uHWHNTb",
    "outputId": "8d9fa0ea-be4c-4c08-8fef-21070f6ba385"
   },
   "outputs": [],
   "source": [
    "## get all ranks into a list\n",
    "## via List comprehension\n"
   ]
  },
  {
   "cell_type": "code",
   "execution_count": null,
   "metadata": {
    "colab": {
     "base_uri": "https://localhost:8080/"
    },
    "id": "IqmorhKWHNTb",
    "outputId": "4206881a-ce50-442a-f29e-374d8f0652ba"
   },
   "outputs": [],
   "source": [
    "## find all the names using LC\n"
   ]
  },
  {
   "cell_type": "code",
   "execution_count": null,
   "metadata": {
    "colab": {
     "base_uri": "https://localhost:8080/"
    },
    "id": "lW-QfoI6HNTb",
    "outputId": "46e4ed1e-cb22-436a-c6e1-ce74d6c28fb3"
   },
   "outputs": [],
   "source": [
    "## annual_comp via lc:\n"
   ]
  },
  {
   "cell_type": "code",
   "execution_count": null,
   "metadata": {
    "colab": {
     "base_uri": "https://localhost:8080/"
    },
    "id": "j3GvJKUtHNTb",
    "outputId": "fada0b47-8108-48d3-99f9-e7cb8ff2d4f3"
   },
   "outputs": [],
   "source": [
    "## company name via LC:\n",
    "\n"
   ]
  },
  {
   "cell_type": "code",
   "execution_count": null,
   "metadata": {
    "colab": {
     "base_uri": "https://localhost:8080/"
    },
    "id": "60Zi5x4EHNTb",
    "outputId": "6f199a67-44b8-46df-acb4-57bb2a455088"
   },
   "outputs": [],
   "source": [
    "## FOR Loop and zip into list of tuples\n"
   ]
  },
  {
   "cell_type": "markdown",
   "metadata": {
    "id": "ucO1VgBPHNTb"
   },
   "source": [
    "### Built-in Functions are always faster"
   ]
  },
  {
   "cell_type": "code",
   "execution_count": null,
   "metadata": {
    "colab": {
     "base_uri": "https://localhost:8080/"
    },
    "id": "ove19pOUHNTb",
    "outputId": "9c8f0dbb-b852-46cc-ff96-cc156938b919"
   },
   "outputs": [],
   "source": [
    "## instead of for loop zip, we can use list and zip\n"
   ]
  },
  {
   "cell_type": "code",
   "execution_count": null,
   "metadata": {
    "colab": {
     "base_uri": "https://localhost:8080/",
     "height": 206
    },
    "id": "zmOIWMkSHNTb",
    "outputId": "36269328-b651-468d-9666-aee0e880f674"
   },
   "outputs": [],
   "source": [
    "## turn into dataframe\n"
   ]
  },
  {
   "cell_type": "markdown",
   "metadata": {
    "id": "071z2sBGkQCX"
   },
   "source": [
    "## What if there are dozens or more column header names?\n",
    "### That's a lot of typing"
   ]
  },
  {
   "cell_type": "code",
   "execution_count": null,
   "metadata": {
    "colab": {
     "base_uri": "https://localhost:8080/"
    },
    "id": "iBMKgd3LHNTb",
    "outputId": "197b7898-9b4a-431a-ddba-bfd130678e55"
   },
   "outputs": [],
   "source": [
    "## recall what CEOs was\n"
   ]
  },
  {
   "cell_type": "code",
   "execution_count": null,
   "metadata": {
    "colab": {
     "base_uri": "https://localhost:8080/"
    },
    "id": "g9vgcg0JHNTb",
    "outputId": "1bd412cb-e707-4633-c1dd-c57ad037cdd1"
   },
   "outputs": [],
   "source": [
    "## what does a single item in the list hold\n"
   ]
  },
  {
   "cell_type": "markdown",
   "metadata": {
    "id": "K7FSIrkiHNTb"
   },
   "source": [
    "## ```HTML Attributes```\n",
    "\n",
    "In the following ```html```:\n",
    "\n",
    "```<div class=\"some_class\">This div class holds something</div>```\n",
    "\n",
    "- ```div``` is a tag.\n",
    "- ```class``` is an attribute.\n",
    "- ```some_class``` holds a value.\n",
    "\n",
    "We can use ```BeautifulSoup``` to grab what an attribute holds:\n",
    "\n",
    "```div['class']``` will return ```some_class```"
   ]
  },
  {
   "cell_type": "code",
   "execution_count": null,
   "metadata": {
    "colab": {
     "base_uri": "https://localhost:8080/"
    },
    "id": "4GKcN5_tHNTc",
    "outputId": "f28f7d76-7689-49f9-d223-960fd8660a9f"
   },
   "outputs": [],
   "source": [
    "## return the class of the very first item\n"
   ]
  },
  {
   "cell_type": "code",
   "execution_count": null,
   "metadata": {
    "colab": {
     "base_uri": "https://localhost:8080/"
    },
    "id": "26xFqzUmHNTc",
    "outputId": "0bdc8eb3-eb7f-403b-98aa-c61d8ba4a858"
   },
   "outputs": [],
   "source": [
    "## zoom into a single instance of ceos\n"
   ]
  },
  {
   "cell_type": "code",
   "execution_count": null,
   "metadata": {
    "colab": {
     "base_uri": "https://localhost:8080/"
    },
    "id": "NWXTwVm4HNTc",
    "outputId": "d140a25f-1d6b-4f39-f890-42e42ffcdfac",
    "scrolled": true
   },
   "outputs": [],
   "source": [
    "## let's get class values in our ptags\n"
   ]
  },
  {
   "cell_type": "code",
   "execution_count": null,
   "metadata": {
    "colab": {
     "base_uri": "https://localhost:8080/"
    },
    "id": "wjKdBcubk4ix",
    "outputId": "34fd1099-9a2a-468f-ccf8-abb873fb8d77"
   },
   "outputs": [],
   "source": []
  },
  {
   "cell_type": "code",
   "execution_count": null,
   "metadata": {
    "colab": {
     "base_uri": "https://localhost:8080/"
    },
    "id": "MooMJPpMHNTc",
    "outputId": "68e1a4d8-c41c-4c65-ca68-953d090b3d4b"
   },
   "outputs": [],
   "source": [
    "## let's actually grab the values via FL:\n"
   ]
  },
  {
   "cell_type": "code",
   "execution_count": null,
   "metadata": {
    "colab": {
     "base_uri": "https://localhost:8080/"
    },
    "id": "hBbEHUyRHNTc",
    "outputId": "e23dddc7-796b-423f-8ae3-a326674032c4"
   },
   "outputs": [],
   "source": [
    "## let's actually grab the values via LC:\n"
   ]
  },
  {
   "cell_type": "code",
   "execution_count": null,
   "metadata": {
    "colab": {
     "base_uri": "https://localhost:8080/",
     "height": 206
    },
    "id": "DFi-GXh7HNTc",
    "outputId": "df5b788b-91bf-4bcc-d3d7-9d0dc57f1c68"
   },
   "outputs": [],
   "source": [
    "## Pandas to create data frame\n"
   ]
  },
  {
   "cell_type": "markdown",
   "metadata": {
    "id": "PXOsj1rhkQCZ"
   },
   "source": [
    "# Reality - not handed to you so cleanly\n",
    "\n",
    "### Let's scrape the disorganized section"
   ]
  },
  {
   "cell_type": "code",
   "execution_count": null,
   "metadata": {
    "colab": {
     "base_uri": "https://localhost:8080/"
    },
    "id": "fsT-81UVNGhx",
    "outputId": "1b1657e7-9d18-4f53-cc06-9eaf1390469b"
   },
   "outputs": [],
   "source": [
    "## recall soup\n"
   ]
  },
  {
   "cell_type": "code",
   "execution_count": null,
   "metadata": {
    "colab": {
     "base_uri": "https://localhost:8080/"
    },
    "id": "OeVqiPRiNGlZ",
    "outputId": "ab0b6c81-2a7e-44fb-ccf5-6439c99b7c99"
   },
   "outputs": [],
   "source": [
    "## grab appropriate section\n"
   ]
  },
  {
   "cell_type": "markdown",
   "metadata": {
    "id": "WpfJm9pTHNTc"
   },
   "source": [
    "### Why is this disorganized?"
   ]
  },
  {
   "cell_type": "code",
   "execution_count": null,
   "metadata": {
    "colab": {
     "base_uri": "https://localhost:8080/"
    },
    "id": "N4be2olEHNTc",
    "outputId": "6d74c830-d509-40e8-dcaa-ce11800c0648"
   },
   "outputs": [],
   "source": [
    "## type of data\n"
   ]
  },
  {
   "cell_type": "code",
   "execution_count": null,
   "metadata": {
    "colab": {
     "base_uri": "https://localhost:8080/"
    },
    "id": "mEEw4I1KNqbg",
    "outputId": "ad69c0fe-c9cc-4e7b-d50b-bbdaf809d79a"
   },
   "outputs": [],
   "source": [
    "## find class ceo and store in object called ceos\n"
   ]
  },
  {
   "cell_type": "code",
   "execution_count": null,
   "metadata": {
    "colab": {
     "base_uri": "https://localhost:8080/"
    },
    "id": "TgNTUojuHNTh",
    "outputId": "45b54f55-3f8b-465e-ecab-1c1dc760592d"
   },
   "outputs": [],
   "source": [
    "## type\n"
   ]
  },
  {
   "cell_type": "code",
   "execution_count": null,
   "metadata": {
    "colab": {
     "base_uri": "https://localhost:8080/"
    },
    "id": "5ztFbtT1kQCa",
    "outputId": "92531e13-c8ff-4074-8ba3-3aabdfd9f862"
   },
   "outputs": [],
   "source": [
    "## ic all the items of interest\n",
    "\n",
    "\n"
   ]
  },
  {
   "cell_type": "code",
   "execution_count": null,
   "metadata": {
    "id": "j3Et7aYokQCa"
   },
   "outputs": [],
   "source": [
    "## we only printed them out. let's store in a list of dicts called ceo_dict_list\n",
    "\n",
    "\n"
   ]
  },
  {
   "cell_type": "code",
   "execution_count": null,
   "metadata": {
    "colab": {
     "base_uri": "https://localhost:8080/"
    },
    "id": "L5LDP-c7HNTh",
    "outputId": "97ec36ff-c4f2-4dff-9e17-4874d46c179e"
   },
   "outputs": [],
   "source": [
    "## call list\n"
   ]
  },
  {
   "cell_type": "code",
   "execution_count": null,
   "metadata": {
    "colab": {
     "base_uri": "https://localhost:8080/",
     "height": 206
    },
    "id": "DV6XibJZHNTh",
    "outputId": "b03133eb-60ef-4f13-95f2-811c405599aa"
   },
   "outputs": [],
   "source": [
    "## turn into df\n"
   ]
  },
  {
   "cell_type": "markdown",
   "metadata": {
    "id": "TTxmq3ZJkQCa"
   },
   "source": [
    "# Excluding classes\n",
    "\n",
    "Most modern sites have tags that include multiple classes.\n",
    "\n",
    "What if you want to target a tag with a single class but that class also appears in tags with others that holds other types of content.\n",
    "\n",
    "For example, capture ```Excluding Some Classes``` section of our page in ```BeautifulSoup``` object.\n",
    "\n"
   ]
  },
  {
   "cell_type": "markdown",
   "metadata": {
    "id": "4rAOWI7mkQCb",
    "outputId": "507dd7da-caa5-43fb-f0ce-b376e64861e5"
   },
   "source": [
    "### ```.select```\n",
    "\n",
    "In this case, we want to target the ```name``` class that does not also have the ```former``` class.\n",
    "\n",
    "For example:\n",
    "\n",
    "```<p class=\"name\">Name: Hock E. Tan</p>```\n",
    "\n",
    "v.\n",
    "\n",
    "```<p class=\"name former\">Ex-CEO: Charlie Fote</p>```\n",
    "\n",
    "In this case we use ```.select``` which looks for that class by itself.\n",
    "\n",
    "```soup.select('[class=\"class_name\"]')```\n",
    "\n",
    "A simple example:"
   ]
  },
  {
   "cell_type": "code",
   "execution_count": null,
   "metadata": {
    "id": "AnYKKYHFHNTi"
   },
   "outputs": [],
   "source": [
    "## RUN this cell that holds some html\n",
    "some_html = '''<li> Silly List </li>\n",
    "<li class=\"a\"> A alone  - UNWANTED </li>\n",
    "<li class=\"a z\"> A and Z  - UNWANTED </li>\n",
    "<li class=\"z\"> Z first - my target</li>\n",
    "<li class=\"b z\"> B and Z  - UNWANTED</li>\n",
    "<li class=\"x z\"> X and Z - UNWANTED </li>\n",
    "<li class=\"z\"> Z second - my target</li>'''\n",
    "\n"
   ]
  },
  {
   "cell_type": "code",
   "execution_count": null,
   "metadata": {
    "colab": {
     "base_uri": "https://localhost:8080/"
    },
    "id": "i5nHr0qHHNTi",
    "outputId": "b179aeeb-3687-4764-af4d-7cce03b1be93"
   },
   "outputs": [],
   "source": [
    "## print it\n"
   ]
  },
  {
   "cell_type": "code",
   "execution_count": null,
   "metadata": {
    "colab": {
     "base_uri": "https://localhost:8080/"
    },
    "id": "NyISvfb2HNTi",
    "outputId": "4e07e9db-8cd0-49d1-f4dd-74d8ce646c63"
   },
   "outputs": [],
   "source": [
    "## convert to temp_soup\n"
   ]
  },
  {
   "cell_type": "code",
   "execution_count": null,
   "metadata": {
    "colab": {
     "base_uri": "https://localhost:8080/"
    },
    "id": "X7D_EKBkHNTi",
    "outputId": "2afb87e2-d866-4ac8-8817-acfb79c30afb"
   },
   "outputs": [],
   "source": [
    "## target li tags, class of z\n"
   ]
  },
  {
   "cell_type": "code",
   "execution_count": null,
   "metadata": {
    "colab": {
     "base_uri": "https://localhost:8080/"
    },
    "id": "FQEaNO3kssR9",
    "outputId": "d28c0263-525b-4808-9cb4-18ede22c4af3"
   },
   "outputs": [],
   "source": [
    "## find all\n",
    "## target li tags, class of z\n"
   ]
  },
  {
   "cell_type": "code",
   "execution_count": null,
   "metadata": {
    "colab": {
     "base_uri": "https://localhost:8080/"
    },
    "id": "Vlede1cNHNTi",
    "outputId": "8164b1fb-2610-43db-d121-60c9b898796a"
   },
   "outputs": [],
   "source": [
    "## select li tag class z only!\n"
   ]
  },
  {
   "cell_type": "markdown",
   "metadata": {
    "id": "GVXYAOG_HNTi"
   },
   "source": [
    "### Back to our CEOs"
   ]
  },
  {
   "cell_type": "code",
   "execution_count": null,
   "metadata": {
    "colab": {
     "base_uri": "https://localhost:8080/"
    },
    "id": "O0H_p376HNTh",
    "outputId": "4ca0b2f2-5227-42f6-e7f1-d2c46f07a314"
   },
   "outputs": [],
   "source": [
    "## what do you see that might be a challenge?\n"
   ]
  },
  {
   "cell_type": "code",
   "execution_count": null,
   "metadata": {
    "colab": {
     "base_uri": "https://localhost:8080/"
    },
    "id": "5Y3jH3rxHNTh",
    "outputId": "14bcebe4-72ca-4642-fc59-ebb8161e73b8"
   },
   "outputs": [],
   "source": [
    "## narrow to ceo divs only\n"
   ]
  },
  {
   "cell_type": "code",
   "execution_count": null,
   "metadata": {},
   "outputs": [],
   "source": [
    "## ic all ceos and former ceos names\n",
    "\n"
   ]
  },
  {
   "cell_type": "code",
   "execution_count": null,
   "metadata": {},
   "outputs": [],
   "source": [
    "## find all former ceos only\n"
   ]
  },
  {
   "cell_type": "code",
   "execution_count": null,
   "metadata": {},
   "outputs": [],
   "source": [
    "## find only current ceos\n"
   ]
  },
  {
   "cell_type": "code",
   "execution_count": null,
   "metadata": {
    "id": "Sg6fQ0cDHNTj"
   },
   "outputs": [],
   "source": []
  }
 ],
 "metadata": {
  "celltoolbar": "Slideshow",
  "colab": {
   "provenance": []
  },
  "kernelspec": {
   "display_name": "Python 3 (ipykernel)",
   "language": "python",
   "name": "python3"
  },
  "language_info": {
   "codemirror_mode": {
    "name": "ipython",
    "version": 3
   },
   "file_extension": ".py",
   "mimetype": "text/x-python",
   "name": "python",
   "nbconvert_exporter": "python",
   "pygments_lexer": "ipython3",
   "version": "3.9.7"
  }
 },
 "nbformat": 4,
 "nbformat_minor": 1
}
