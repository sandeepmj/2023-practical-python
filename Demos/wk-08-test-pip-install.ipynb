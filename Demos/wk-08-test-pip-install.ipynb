{
 "cells": [
  {
   "cell_type": "code",
   "execution_count": 1,
   "id": "15fe722f",
   "metadata": {
    "scrolled": true
   },
   "outputs": [
    {
     "name": "stdout",
     "output_type": "stream",
     "text": [
      "Collecting git+https://github.com/sandeepmj/testFunc.git\n",
      "  Cloning https://github.com/sandeepmj/testFunc.git to /private/var/folders/jg/xjfmqdcj0m1bqs1d7sgv9v480000gp/T/pip-req-build-i_sxzmci\n",
      "  Running command git clone --filter=blob:none --quiet https://github.com/sandeepmj/testFunc.git /private/var/folders/jg/xjfmqdcj0m1bqs1d7sgv9v480000gp/T/pip-req-build-i_sxzmci\n",
      "  Resolved https://github.com/sandeepmj/testFunc.git to commit 34697083193ee938fee3f93ccb0930f8f89f5866\n",
      "  Preparing metadata (setup.py) ... \u001b[?25ldone\n",
      "\u001b[?25hBuilding wheels for collected packages: testFunc\n",
      "  Building wheel for testFunc (setup.py) ... \u001b[?25ldone\n",
      "\u001b[?25h  Created wheel for testFunc: filename=testFunc-0.0.4-py3-none-any.whl size=2629 sha256=40b963be2b6850c788b71a80783d0d675aaa973afdbda512839c387556fcef44\n",
      "  Stored in directory: /private/var/folders/jg/xjfmqdcj0m1bqs1d7sgv9v480000gp/T/pip-ephem-wheel-cache-mzyd2xcv/wheels/b1/4a/3a/a69db486fc3a5d488c886cdc4ffe184cdbee36c9392421ac58\n",
      "Successfully built testFunc\n",
      "Installing collected packages: testFunc\n",
      "  Attempting uninstall: testFunc\n",
      "    Found existing installation: testFunc 0.0.3\n",
      "    Uninstalling testFunc-0.0.3:\n",
      "      Successfully uninstalled testFunc-0.0.3\n",
      "Successfully installed testFunc-0.0.4\n",
      "Note: you may need to restart the kernel to use updated packages.\n"
     ]
    }
   ],
   "source": [
    "pip install git+https://github.com/sandeepmj/testFunc.git"
   ]
  },
  {
   "cell_type": "code",
   "execution_count": 2,
   "id": "79c92221",
   "metadata": {},
   "outputs": [],
   "source": [
    "from mathFunctions import addNumbers"
   ]
  },
  {
   "cell_type": "code",
   "execution_count": 3,
   "id": "0621767b",
   "metadata": {},
   "outputs": [
    {
     "data": {
      "text/plain": [
       "750"
      ]
     },
     "execution_count": 3,
     "metadata": {},
     "output_type": "execute_result"
    }
   ],
   "source": [
    "addNumbers(150,600)"
   ]
  },
  {
   "cell_type": "code",
   "execution_count": 5,
   "id": "754a7f22",
   "metadata": {},
   "outputs": [],
   "source": [
    "from mathFunctions import *"
   ]
  },
  {
   "cell_type": "code",
   "execution_count": 6,
   "id": "7266e6d5",
   "metadata": {},
   "outputs": [
    {
     "data": {
      "text/plain": [
       "['demo-docs/adolph-coors-2015.pdf',\n",
       " 'demo-docs/adolph-coors-2014.pdf',\n",
       " 'demo-docs/adolph-coors-2013.pdf']"
      ]
     },
     "execution_count": 6,
     "metadata": {},
     "output_type": "execute_result"
    }
   ],
   "source": [
    "gatherFiles(\"demo-docs/*.pdf\")"
   ]
  },
  {
   "cell_type": "code",
   "execution_count": null,
   "id": "a3ff1ace",
   "metadata": {},
   "outputs": [],
   "source": [
    "subtractNumbers"
   ]
  }
 ],
 "metadata": {
  "kernelspec": {
   "display_name": "Python 3 (ipykernel)",
   "language": "python",
   "name": "python3"
  },
  "language_info": {
   "codemirror_mode": {
    "name": "ipython",
    "version": 3
   },
   "file_extension": ".py",
   "mimetype": "text/x-python",
   "name": "python",
   "nbconvert_exporter": "python",
   "pygments_lexer": "ipython3",
   "version": "3.9.7"
  }
 },
 "nbformat": 4,
 "nbformat_minor": 5
}
