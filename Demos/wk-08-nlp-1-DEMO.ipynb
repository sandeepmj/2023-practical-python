{
 "cells": [
  {
   "cell_type": "markdown",
   "metadata": {
    "id": "7QwY_aPURcTp"
   },
   "source": [
    "# AI - Natural Language Processing"
   ]
  },
  {
   "cell_type": "markdown",
   "metadata": {
    "id": "61gyS0yfh2i7"
   },
   "source": [
    "### The problem?\n",
    "\n",
    "- Endless amounts of unstructured data found in emails, tweets, letters, memos, etc.\n",
    "- Even in transcripts\n",
    "- How can we make sense of all this data?\n",
    "- How can we 'easily' find relevant information for our reporting?"
   ]
  },
  {
   "cell_type": "markdown",
   "metadata": {
    "id": "VFFYKXh0h2i8"
   },
   "source": [
    "### The solution?\n",
    "- Artificial Intelligence to process all that text using **natural language processing**!\n",
    "- <a href=\"https://machinelearningmastery.com/natural-language-processing/\">Learn more</a> about the complexity and the history of NLP.\n",
    "- The use of ```large language models```!"
   ]
  },
  {
   "cell_type": "markdown",
   "metadata": {
    "id": "oR26_2FPh2i8"
   },
   "source": [
    "### Journalism examples\n",
    "\n",
    "- <a href=\"http://doctors.ajc.com/part_1_license_to_betray/\">License to betray</a> – Finding word stems and roots to uncover abuse. (<a href=\"http://doctors.ajc.com/about_this_investigation/?ecmp=doctorssexabuse_microsite_stories\">More info</a>)\n",
    "- <a href=\"https://www.revealnews.org/article/federal-judges-rulings-favored-companies-in-which-he-owned-stock/\">Federal judge’s rulings favored companies in which he owned stock</a> – Finding all stock owned by judges in disclosure forms and comparing to caseloads.\n",
    "- <a href=\"https://www.latimes.com/local/cityhall/la-me-crime-stats-20151015-story.html\">LAPD underreported serious assaults, skewing crime stats for 8 years</a> – Text classification analysis."
   ]
  },
  {
   "cell_type": "markdown",
   "metadata": {
    "id": "WGwqeUHzh2i9"
   },
   "source": [
    "### The tools\n",
    "\n",
    "- Spacy v. NLTK\n",
    "- NLTK launched in 2001, Spacy in 2015\n",
    "- NLTK is now bloated and complex, requiring many steps to deal with many changes etc.\n",
    "- Spacy is lean and modern, and can compute some text 4x to 20x faster than NLTK.\n",
    "- Spacy does **nearly** everything that NLTK does, but better.\n",
    "- NLTK, however, is still the library of choice for sentiment analysis.\n",
    "\n",
    "However, sentiment analysis in journalism can be problematic. Be extra wary of NLP's use for news analysis. AI can easily misinterpret the sentiment in this sentence:\n",
    "\n",
    "\"It is a great movie if you have the taste and sensibilities of a five-year-old boy.\"\n",
    "\n",
    "It's best to stick to the following types of analysis:\n",
    "\n",
    "- Mentions of a word or concept (who said something...when and how many times?)\n",
    "- Frequency of target terms or topics (how often were keywords used in speeches, transcripts, etc)\n",
    "- Words over time (a timeline that shows frequency of words over time)\n",
    "- Missing words (really a flip of words over time to show how people stopped using certain concepts or terms)\n",
    "- Key people, places, companies (identify proper nouns and places for reporting)\n",
    "- Comparisons (for example financial disclosures over time...which stocks were added or removed over the years)"
   ]
  },
  {
   "cell_type": "markdown",
   "metadata": {
    "id": "ZYgC0y5Yh2i9"
   },
   "source": [
    "# Working with Spacy"
   ]
  },
  {
   "cell_type": "markdown",
   "metadata": {
    "id": "ly8WKOVPYV9-"
   },
   "source": [
    "## Step 1. Install Spacy\n",
    "\n",
    "If this first time ever using spacy on this computer, you must first do either the ```!conda install``` or ```!pip install```:"
   ]
  },
  {
   "cell_type": "markdown",
   "metadata": {},
   "source": [
    "### TURN OFF FOR COLAB\n",
    "Run for ANACONDA"
   ]
  },
  {
   "cell_type": "code",
   "execution_count": 1,
   "metadata": {},
   "outputs": [
    {
     "name": "stdout",
     "output_type": "stream",
     "text": [
      "Collecting package metadata (current_repodata.json): / WARNING conda.models.version:get_matcher(542): Using .* with relational operator is superfluous and deprecated and will be removed in a future version of conda. Your spec was 1.7.1.*, but conda is ignoring the .* and treating it as 1.7.1\n",
      "done\n",
      "Solving environment: done\n",
      "\n",
      "\n",
      "==> WARNING: A newer version of conda exists. <==\n",
      "  current version: 22.9.0\n",
      "  latest version: 23.9.0\n",
      "\n",
      "Please update conda by running\n",
      "\n",
      "    $ conda update -n base -c defaults conda\n",
      "\n",
      "\n",
      "\n",
      "# All requested packages already installed.\n",
      "\n",
      "Retrieving notices: ...working... done\n",
      "\n",
      "Note: you may need to restart the kernel to use updated packages.\n"
     ]
    }
   ],
   "source": [
    "conda install -c conda-forge spacy"
   ]
  },
  {
   "cell_type": "markdown",
   "metadata": {},
   "source": [
    "### TURN OFF FOR ANACONDA\n",
    "Run for Colab"
   ]
  },
  {
   "cell_type": "code",
   "execution_count": null,
   "metadata": {
    "colab": {
     "base_uri": "https://localhost:8080/"
    },
    "id": "a-S6NorkRcTu",
    "outputId": "432fd1da-15fb-4994-8d93-6a578e741e75"
   },
   "outputs": [],
   "source": [
    "## COLAB pip install\n",
    "# !pip install -U spacy\n"
   ]
  },
  {
   "cell_type": "code",
   "execution_count": 53,
   "metadata": {
    "id": "XdUvDJNDRcTy"
   },
   "outputs": [],
   "source": [
    "## import libary.\n",
    "import pandas as pd\n",
    "import spacy"
   ]
  },
  {
   "cell_type": "markdown",
   "metadata": {
    "id": "G8xpwtwPRcT1"
   },
   "source": [
    "#### Which language model is best for you?\n",
    "<a href=\"https://spacy.io/usage/models\">https://spacy.io/usage/models</a>"
   ]
  },
  {
   "cell_type": "markdown",
   "metadata": {
    "id": "KcPisnnlRcT1"
   },
   "source": [
    "## Step 2. Install language model\n"
   ]
  },
  {
   "cell_type": "markdown",
   "metadata": {},
   "source": [
    "### ANACONDA ONLY"
   ]
  },
  {
   "cell_type": "code",
   "execution_count": 23,
   "metadata": {},
   "outputs": [
    {
     "name": "stdout",
     "output_type": "stream",
     "text": [
      "Collecting package metadata (current_repodata.json): - WARNING conda.models.version:get_matcher(542): Using .* with relational operator is superfluous and deprecated and will be removed in a future version of conda. Your spec was 1.7.1.*, but conda is ignoring the .* and treating it as 1.7.1\n",
      "done\n",
      "Solving environment: done\n",
      "\n",
      "\n",
      "==> WARNING: A newer version of conda exists. <==\n",
      "  current version: 22.9.0\n",
      "  latest version: 23.9.0\n",
      "\n",
      "Please update conda by running\n",
      "\n",
      "    $ conda update -n base -c defaults conda\n",
      "\n",
      "\n",
      "\n",
      "# All requested packages already installed.\n",
      "\n",
      "Retrieving notices: ...working... done\n",
      "\n",
      "Note: you may need to restart the kernel to use updated packages.\n"
     ]
    }
   ],
   "source": [
    "conda install -c conda-forge spacy-model-en_core_web_sm"
   ]
  },
  {
   "cell_type": "markdown",
   "metadata": {},
   "source": [
    "### COLAB ONLY"
   ]
  },
  {
   "cell_type": "code",
   "execution_count": 24,
   "metadata": {
    "colab": {
     "base_uri": "https://localhost:8080/"
    },
    "id": "9L770hGkZePT",
    "outputId": "c59f0a1a-f29d-4411-8f7f-ef4dc8610d50"
   },
   "outputs": [],
   "source": [
    "# !python -m spacy download en_core_web_trf"
   ]
  },
  {
   "cell_type": "code",
   "execution_count": 25,
   "metadata": {
    "id": "N1FId7V5h2jA"
   },
   "outputs": [],
   "source": [
    "## import that language model\n",
    "import en_core_web_sm"
   ]
  },
  {
   "cell_type": "markdown",
   "metadata": {
    "id": "uVP20HngRcT8"
   },
   "source": [
    "### Place English libary into a ```nlp``` pipeline"
   ]
  },
  {
   "cell_type": "code",
   "execution_count": 28,
   "metadata": {
    "id": "pqDMPPHxRcT8"
   },
   "outputs": [],
   "source": [
    "## build nlp pipeline (a function will tokenize, parse and ner for us)\n",
    "nlp = en_core_web_sm.load()"
   ]
  },
  {
   "cell_type": "code",
   "execution_count": 29,
   "metadata": {
    "colab": {
     "base_uri": "https://localhost:8080/"
    },
    "id": "R0G92vbFFFlU",
    "outputId": "ee754cc8-5592-4357-82a9-7a0b8bf77a28"
   },
   "outputs": [
    {
     "data": {
      "text/plain": [
       "spacy.lang.en.English"
      ]
     },
     "execution_count": 29,
     "metadata": {},
     "output_type": "execute_result"
    }
   ],
   "source": [
    "## what type of object is nlp\n",
    "type(nlp)"
   ]
  },
  {
   "cell_type": "markdown",
   "metadata": {
    "id": "CJyaMU2Ah2jB"
   },
   "source": [
    "## Step 3. Text analysis"
   ]
  },
  {
   "cell_type": "code",
   "execution_count": 85,
   "metadata": {
    "id": "yy8E66pRRcT5"
   },
   "outputs": [],
   "source": [
    "### Sample English text:\n",
    "text = u'''\\\n",
    "On May 10, 2011, Microsoft announced its acquisition of Skype Technologies, \\\n",
    "creator of the VoIP service Skype, for $8.5 billion. \\\n",
    "Microsoft is headquartered near Seattle Washington while Skype remains in Palo Alto, California. \\\n",
    "Sandeep Junnarkar got this from Wikipedia. \\\n",
    "But he'd rather head to Paris, France to see the Mona Lisa at the Louvre. \\\n",
    "The Hudson River should really be called by its original native name, Mahicantuck, which means \"the river that flows two ways.\" \\\n",
    "Mahicantuck flows for 315 miles to the Atlantic Ocean from its source at Mt. Mercy, the tallest peak in New York state.\n",
    "'''"
   ]
  },
  {
   "cell_type": "code",
   "execution_count": 31,
   "metadata": {
    "colab": {
     "base_uri": "https://localhost:8080/",
     "height": 86
    },
    "id": "8SFy7IZwh2jC",
    "outputId": "4cdad441-bea1-4728-c2b1-60ad92be9044"
   },
   "outputs": [
    {
     "data": {
      "text/plain": [
       "'On May 10, 2011, Microsoft announced its acquisition of\\xa0Skype Technologies, creator of the\\xa0VoIP\\xa0service\\xa0Skype, for $8.5 billion. Microsoft is headquartered near Seattle Washington while Skype remains in Palo Alto, California. Sandeep Junnarkar got this from Wikipedia. But he\\'d rather head to Paris, France to see the Mona Lisa at the Louvre. The Hudson River should really be called by its original native name, Mahicantuck, which means \"the river that flows two ways.\" Mahicantuck flows for 315 miles to the Atlantic Ocean from its source at Mt. Mercy, the tallest peak in New York state.\\n'"
      ]
     },
     "execution_count": 31,
     "metadata": {},
     "output_type": "execute_result"
    }
   ],
   "source": [
    "## CALL the text\n",
    "text"
   ]
  },
  {
   "cell_type": "code",
   "execution_count": 32,
   "metadata": {},
   "outputs": [
    {
     "data": {
      "text/plain": [
       "str"
      ]
     },
     "execution_count": 32,
     "metadata": {},
     "output_type": "execute_result"
    }
   ],
   "source": [
    "## PRINT the tex\n",
    "type(text)"
   ]
  },
  {
   "cell_type": "markdown",
   "metadata": {
    "id": "nZQdKpPKRcT_"
   },
   "source": [
    "### Tokenize our text\n",
    "\n",
    "- Tokenizing is always the first step in text analysis. \n",
    "- It breaks all text into isolated but related units (including spaces, symbols, punctuation, numbers, words etc.)\n",
    "- However, it retains the connection between all the words, sentences, and paragraphs."
   ]
  },
  {
   "cell_type": "code",
   "execution_count": 33,
   "metadata": {
    "id": "SHeDiZnRRcUA"
   },
   "outputs": [],
   "source": [
    "## let's run the nlp function and create a spacy doc\n",
    "doc = nlp(text)"
   ]
  },
  {
   "cell_type": "code",
   "execution_count": 34,
   "metadata": {
    "colab": {
     "base_uri": "https://localhost:8080/"
    },
    "id": "BCaBvHuQshj_",
    "outputId": "86c5b711-7a2b-47d7-92a4-54dab6567d0b"
   },
   "outputs": [
    {
     "data": {
      "text/plain": [
       "On May 10, 2011, Microsoft announced its acquisition of Skype Technologies, creator of the VoIP service Skype, for $8.5 billion. Microsoft is headquartered near Seattle Washington while Skype remains in Palo Alto, California. Sandeep Junnarkar got this from Wikipedia. But he'd rather head to Paris, France to see the Mona Lisa at the Louvre. The Hudson River should really be called by its original native name, Mahicantuck, which means \"the river that flows two ways.\" Mahicantuck flows for 315 miles to the Atlantic Ocean from its source at Mt. Mercy, the tallest peak in New York state."
      ]
     },
     "execution_count": 34,
     "metadata": {},
     "output_type": "execute_result"
    }
   ],
   "source": [
    "## CALL doc\n",
    "doc"
   ]
  },
  {
   "cell_type": "code",
   "execution_count": 35,
   "metadata": {
    "colab": {
     "base_uri": "https://localhost:8080/"
    },
    "id": "y1aV38l6RcUC",
    "outputId": "a8f36c45-3316-4a00-d261-88d0f729b501"
   },
   "outputs": [
    {
     "data": {
      "text/plain": [
       "spacy.tokens.doc.Doc"
      ]
     },
     "execution_count": 35,
     "metadata": {},
     "output_type": "execute_result"
    }
   ],
   "source": [
    "## what type of data is it?\n",
    "type(doc)"
   ]
  },
  {
   "cell_type": "code",
   "execution_count": 36,
   "metadata": {
    "colab": {
     "base_uri": "https://localhost:8080/"
    },
    "id": "9zJ_bNTzRcUF",
    "outputId": "328e5fb8-bd6c-4c64-bab2-5094e309ef53"
   },
   "outputs": [
    {
     "name": "stdout",
     "output_type": "stream",
     "text": [
      "On\n",
      "********\n",
      "May\n",
      "********\n",
      "10\n",
      "********\n",
      ",\n",
      "********\n",
      "2011\n",
      "********\n",
      ",\n",
      "********\n",
      "Microsoft\n",
      "********\n",
      "announced\n",
      "********\n",
      "its\n",
      "********\n",
      "acquisition\n",
      "********\n",
      "of\n",
      "********\n",
      " \n",
      "********\n",
      "Skype\n",
      "********\n",
      "Technologies\n",
      "********\n",
      ",\n",
      "********\n",
      "creator\n",
      "********\n",
      "of\n",
      "********\n",
      "the\n",
      "********\n",
      " \n",
      "********\n",
      "VoIP\n",
      "********\n",
      " \n",
      "********\n",
      "service\n",
      "********\n",
      " \n",
      "********\n",
      "Skype\n",
      "********\n",
      ",\n",
      "********\n",
      "for\n",
      "********\n",
      "$\n",
      "********\n",
      "8.5\n",
      "********\n",
      "billion\n",
      "********\n",
      ".\n",
      "********\n",
      "Microsoft\n",
      "********\n",
      "is\n",
      "********\n",
      "headquartered\n",
      "********\n",
      "near\n",
      "********\n",
      "Seattle\n",
      "********\n",
      "Washington\n",
      "********\n",
      "while\n",
      "********\n",
      "Skype\n",
      "********\n",
      "remains\n",
      "********\n",
      "in\n",
      "********\n",
      "Palo\n",
      "********\n",
      "Alto\n",
      "********\n",
      ",\n",
      "********\n",
      "California\n",
      "********\n",
      ".\n",
      "********\n",
      "Sandeep\n",
      "********\n",
      "Junnarkar\n",
      "********\n",
      "got\n",
      "********\n",
      "this\n",
      "********\n",
      "from\n",
      "********\n",
      "Wikipedia\n",
      "********\n",
      ".\n",
      "********\n",
      "But\n",
      "********\n",
      "he\n",
      "********\n",
      "'d\n",
      "********\n",
      "rather\n",
      "********\n",
      "head\n",
      "********\n",
      "to\n",
      "********\n",
      "Paris\n",
      "********\n",
      ",\n",
      "********\n",
      "France\n",
      "********\n",
      "to\n",
      "********\n",
      "see\n",
      "********\n",
      "the\n",
      "********\n",
      "Mona\n",
      "********\n",
      "Lisa\n",
      "********\n",
      "at\n",
      "********\n",
      "the\n",
      "********\n",
      "Louvre\n",
      "********\n",
      ".\n",
      "********\n",
      "The\n",
      "********\n",
      "Hudson\n",
      "********\n",
      "River\n",
      "********\n",
      "should\n",
      "********\n",
      "really\n",
      "********\n",
      "be\n",
      "********\n",
      "called\n",
      "********\n",
      "by\n",
      "********\n",
      "its\n",
      "********\n",
      "original\n",
      "********\n",
      "native\n",
      "********\n",
      "name\n",
      "********\n",
      ",\n",
      "********\n",
      "Mahicantuck\n",
      "********\n",
      ",\n",
      "********\n",
      "which\n",
      "********\n",
      "means\n",
      "********\n",
      "\"\n",
      "********\n",
      "the\n",
      "********\n",
      "river\n",
      "********\n",
      "that\n",
      "********\n",
      "flows\n",
      "********\n",
      "two\n",
      "********\n",
      "ways\n",
      "********\n",
      ".\n",
      "********\n",
      "\"\n",
      "********\n",
      "Mahicantuck\n",
      "********\n",
      "flows\n",
      "********\n",
      "for\n",
      "********\n",
      "315\n",
      "********\n",
      "miles\n",
      "********\n",
      "to\n",
      "********\n",
      "the\n",
      "********\n",
      "Atlantic\n",
      "********\n",
      "Ocean\n",
      "********\n",
      "from\n",
      "********\n",
      "its\n",
      "********\n",
      "source\n",
      "********\n",
      "at\n",
      "********\n",
      "Mt.\n",
      "********\n",
      "Mercy\n",
      "********\n",
      ",\n",
      "********\n",
      "the\n",
      "********\n",
      "tallest\n",
      "********\n",
      "peak\n",
      "********\n",
      "in\n",
      "********\n",
      "New\n",
      "********\n",
      "York\n",
      "********\n",
      "state\n",
      "********\n",
      ".\n",
      "********\n",
      "\n",
      "\n",
      "********\n"
     ]
    }
   ],
   "source": [
    "## show each token\n",
    "for item in doc:\n",
    "    print(item)\n",
    "    print(\"********\")"
   ]
  },
  {
   "cell_type": "markdown",
   "metadata": {
    "id": "VmNHn1Ukh2jE"
   },
   "source": [
    "### Parts of speech\n",
    "\n"
   ]
  },
  {
   "cell_type": "code",
   "execution_count": 37,
   "metadata": {
    "colab": {
     "base_uri": "https://localhost:8080/"
    },
    "id": "65Yi1Plih2jF",
    "outputId": "baff8391-2bf5-43c6-e03f-49343593022a"
   },
   "outputs": [
    {
     "name": "stdout",
     "output_type": "stream",
     "text": [
      "On--->85--->ADP\n",
      "********\n",
      "May--->96--->PROPN\n",
      "********\n",
      "10--->93--->NUM\n",
      "********\n",
      ",--->97--->PUNCT\n",
      "********\n",
      "2011--->93--->NUM\n",
      "********\n",
      ",--->97--->PUNCT\n",
      "********\n",
      "Microsoft--->96--->PROPN\n",
      "********\n",
      "announced--->100--->VERB\n",
      "********\n",
      "its--->95--->PRON\n",
      "********\n",
      "acquisition--->92--->NOUN\n",
      "********\n",
      "of--->85--->ADP\n",
      "********\n",
      " --->103--->SPACE\n",
      "********\n",
      "Skype--->96--->PROPN\n",
      "********\n",
      "Technologies--->96--->PROPN\n",
      "********\n",
      ",--->97--->PUNCT\n",
      "********\n",
      "creator--->92--->NOUN\n",
      "********\n",
      "of--->85--->ADP\n",
      "********\n",
      "the--->90--->DET\n",
      "********\n",
      " --->103--->SPACE\n",
      "********\n",
      "VoIP--->96--->PROPN\n",
      "********\n",
      " --->103--->SPACE\n",
      "********\n",
      "service--->92--->NOUN\n",
      "********\n",
      " --->103--->SPACE\n",
      "********\n",
      "Skype--->96--->PROPN\n",
      "********\n",
      ",--->97--->PUNCT\n",
      "********\n",
      "for--->85--->ADP\n",
      "********\n",
      "$--->99--->SYM\n",
      "********\n",
      "8.5--->93--->NUM\n",
      "********\n",
      "billion--->93--->NUM\n",
      "********\n",
      ".--->97--->PUNCT\n",
      "********\n",
      "Microsoft--->96--->PROPN\n",
      "********\n",
      "is--->87--->AUX\n",
      "********\n",
      "headquartered--->100--->VERB\n",
      "********\n",
      "near--->85--->ADP\n",
      "********\n",
      "Seattle--->96--->PROPN\n",
      "********\n",
      "Washington--->96--->PROPN\n",
      "********\n",
      "while--->98--->SCONJ\n",
      "********\n",
      "Skype--->96--->PROPN\n",
      "********\n",
      "remains--->100--->VERB\n",
      "********\n",
      "in--->85--->ADP\n",
      "********\n",
      "Palo--->96--->PROPN\n",
      "********\n",
      "Alto--->96--->PROPN\n",
      "********\n",
      ",--->97--->PUNCT\n",
      "********\n",
      "California--->96--->PROPN\n",
      "********\n",
      ".--->97--->PUNCT\n",
      "********\n",
      "Sandeep--->96--->PROPN\n",
      "********\n",
      "Junnarkar--->96--->PROPN\n",
      "********\n",
      "got--->100--->VERB\n",
      "********\n",
      "this--->95--->PRON\n",
      "********\n",
      "from--->85--->ADP\n",
      "********\n",
      "Wikipedia--->96--->PROPN\n",
      "********\n",
      ".--->97--->PUNCT\n",
      "********\n",
      "But--->89--->CCONJ\n",
      "********\n",
      "he--->95--->PRON\n",
      "********\n",
      "'d--->87--->AUX\n",
      "********\n",
      "rather--->86--->ADV\n",
      "********\n",
      "head--->100--->VERB\n",
      "********\n",
      "to--->85--->ADP\n",
      "********\n",
      "Paris--->96--->PROPN\n",
      "********\n",
      ",--->97--->PUNCT\n",
      "********\n",
      "France--->96--->PROPN\n",
      "********\n",
      "to--->94--->PART\n",
      "********\n",
      "see--->100--->VERB\n",
      "********\n",
      "the--->90--->DET\n",
      "********\n",
      "Mona--->96--->PROPN\n",
      "********\n",
      "Lisa--->96--->PROPN\n",
      "********\n",
      "at--->85--->ADP\n",
      "********\n",
      "the--->90--->DET\n",
      "********\n",
      "Louvre--->96--->PROPN\n",
      "********\n",
      ".--->97--->PUNCT\n",
      "********\n",
      "The--->90--->DET\n",
      "********\n",
      "Hudson--->96--->PROPN\n",
      "********\n",
      "River--->96--->PROPN\n",
      "********\n",
      "should--->87--->AUX\n",
      "********\n",
      "really--->86--->ADV\n",
      "********\n",
      "be--->87--->AUX\n",
      "********\n",
      "called--->100--->VERB\n",
      "********\n",
      "by--->85--->ADP\n",
      "********\n",
      "its--->95--->PRON\n",
      "********\n",
      "original--->84--->ADJ\n",
      "********\n",
      "native--->84--->ADJ\n",
      "********\n",
      "name--->92--->NOUN\n",
      "********\n",
      ",--->97--->PUNCT\n",
      "********\n",
      "Mahicantuck--->96--->PROPN\n",
      "********\n",
      ",--->97--->PUNCT\n",
      "********\n",
      "which--->95--->PRON\n",
      "********\n",
      "means--->100--->VERB\n",
      "********\n",
      "\"--->97--->PUNCT\n",
      "********\n",
      "the--->90--->DET\n",
      "********\n",
      "river--->92--->NOUN\n",
      "********\n",
      "that--->95--->PRON\n",
      "********\n",
      "flows--->100--->VERB\n",
      "********\n",
      "two--->93--->NUM\n",
      "********\n",
      "ways--->92--->NOUN\n",
      "********\n",
      ".--->97--->PUNCT\n",
      "********\n",
      "\"--->97--->PUNCT\n",
      "********\n",
      "Mahicantuck--->96--->PROPN\n",
      "********\n",
      "flows--->100--->VERB\n",
      "********\n",
      "for--->85--->ADP\n",
      "********\n",
      "315--->93--->NUM\n",
      "********\n",
      "miles--->92--->NOUN\n",
      "********\n",
      "to--->85--->ADP\n",
      "********\n",
      "the--->90--->DET\n",
      "********\n",
      "Atlantic--->96--->PROPN\n",
      "********\n",
      "Ocean--->96--->PROPN\n",
      "********\n",
      "from--->85--->ADP\n",
      "********\n",
      "its--->95--->PRON\n",
      "********\n",
      "source--->92--->NOUN\n",
      "********\n",
      "at--->85--->ADP\n",
      "********\n",
      "Mt.--->96--->PROPN\n",
      "********\n",
      "Mercy--->96--->PROPN\n",
      "********\n",
      ",--->97--->PUNCT\n",
      "********\n",
      "the--->90--->DET\n",
      "********\n",
      "tallest--->84--->ADJ\n",
      "********\n",
      "peak--->92--->NOUN\n",
      "********\n",
      "in--->85--->ADP\n",
      "********\n",
      "New--->96--->PROPN\n",
      "********\n",
      "York--->96--->PROPN\n",
      "********\n",
      "state--->92--->NOUN\n",
      "********\n",
      ".--->97--->PUNCT\n",
      "********\n",
      "\n",
      "--->103--->SPACE\n",
      "********\n"
     ]
    }
   ],
   "source": [
    "## print all parts of speech words\n",
    "for token in doc:\n",
    "    print(f\"{token.text}--->{token.pos}--->{token.pos_}\")\n",
    "    print(\"********\")"
   ]
  },
  {
   "cell_type": "markdown",
   "metadata": {
    "id": "yzYn5aS2h2jF"
   },
   "source": [
    "### Step 4. Named Entity Recognition (NER)\n",
    "\n",
    "#### Spacy easily returns the words that matter to us like names of companies, people, places, art works, numbers, etc.\n",
    "\n",
    "- ```.ents``` ------------> Finds all entities in doc spacy object.\n",
    "\n",
    "- ```ent.text``` ------------> The actual text.\n",
    "\n",
    "- ```ent.label``` ------------> A numeric code for the entity.\n",
    "\n",
    "- ```ent.label_``` ------------> The word's entity category.\n",
    "\n",
    "- ```spacy.explain(ent.label_)``` ---------> A description of the category.\n",
    "\n",
    "\n"
   ]
  },
  {
   "cell_type": "code",
   "execution_count": 38,
   "metadata": {
    "colab": {
     "base_uri": "https://localhost:8080/",
     "height": 86
    },
    "id": "47lc7chb2eiM",
    "outputId": "7d999440-d8ed-4eb7-f97a-12446db07d4e"
   },
   "outputs": [
    {
     "data": {
      "text/plain": [
       "'On May 10, 2011, Microsoft announced its acquisition of\\xa0Skype Technologies, creator of the\\xa0VoIP\\xa0service\\xa0Skype, for $8.5 billion. Microsoft is headquartered near Seattle Washington while Skype remains in Palo Alto, California. Sandeep Junnarkar got this from Wikipedia. But he\\'d rather head to Paris, France to see the Mona Lisa at the Louvre. The Hudson River should really be called by its original native name, Mahicantuck, which means \"the river that flows two ways.\" Mahicantuck flows for 315 miles to the Atlantic Ocean from its source at Mt. Mercy, the tallest peak in New York state.\\n'"
      ]
     },
     "execution_count": 38,
     "metadata": {},
     "output_type": "execute_result"
    }
   ],
   "source": [
    "### call text\n",
    "text"
   ]
  },
  {
   "cell_type": "code",
   "execution_count": 39,
   "metadata": {
    "colab": {
     "base_uri": "https://localhost:8080/"
    },
    "id": "2gJS6j2Lh2jF",
    "outputId": "4c8a9710-9aeb-4239-ccd5-bbe49caa3106"
   },
   "outputs": [
    {
     "name": "stdout",
     "output_type": "stream",
     "text": [
      "May 10, 2011\n",
      "Microsoft\n",
      "Skype Technologies\n",
      "Skype\n",
      "$8.5 billion\n",
      "Microsoft\n",
      "Seattle\n",
      "Washington\n",
      "Skype\n",
      "Palo Alto\n",
      "California\n",
      "Sandeep Junnarkar\n",
      "Wikipedia\n",
      "Paris\n",
      "France\n",
      "the Mona Lisa\n",
      "Louvre\n",
      "The Hudson River\n",
      "Mahicantuck\n",
      "two\n",
      "Mahicantuck\n",
      "315 miles\n",
      "the Atlantic Ocean\n",
      "Mt. Mercy\n",
      "New York\n"
     ]
    }
   ],
   "source": [
    "## find all entities\n",
    "for word in doc.ents:\n",
    "    print(word)\n",
    "    "
   ]
  },
  {
   "cell_type": "code",
   "execution_count": 40,
   "metadata": {
    "colab": {
     "base_uri": "https://localhost:8080/"
    },
    "id": "gEmZLDFPh2jF",
    "outputId": "8ce33e50-ff5d-45d3-a102-63ff3b9da1aa"
   },
   "outputs": [
    {
     "name": "stdout",
     "output_type": "stream",
     "text": [
      "May 10, 2011---->DATE\n",
      "Microsoft---->ORG\n",
      "Skype Technologies---->ORG\n",
      "Skype---->ORG\n",
      "$8.5 billion---->MONEY\n",
      "Microsoft---->ORG\n",
      "Seattle---->GPE\n",
      "Washington---->GPE\n",
      "Skype---->ORG\n",
      "Palo Alto---->GPE\n",
      "California---->GPE\n",
      "Sandeep Junnarkar---->PERSON\n",
      "Wikipedia---->ORG\n",
      "Paris---->GPE\n",
      "France---->GPE\n",
      "the Mona Lisa---->WORK_OF_ART\n",
      "Louvre---->LOC\n",
      "The Hudson River---->LOC\n",
      "Mahicantuck---->ORG\n",
      "two---->CARDINAL\n",
      "Mahicantuck---->WORK_OF_ART\n",
      "315 miles---->QUANTITY\n",
      "the Atlantic Ocean---->LOC\n",
      "Mt. Mercy---->LOC\n",
      "New York---->GPE\n"
     ]
    }
   ],
   "source": [
    "## find all entities with their label\n",
    "\n",
    "for word in doc.ents:\n",
    "    print(f\"{word}---->{word.label_}\")  "
   ]
  },
  {
   "cell_type": "code",
   "execution_count": 41,
   "metadata": {
    "colab": {
     "base_uri": "https://localhost:8080/"
    },
    "id": "Ix0MJB1Gh2jF",
    "outputId": "7628ec35-dd84-4780-bbed-6ee9cc85711e"
   },
   "outputs": [
    {
     "name": "stdout",
     "output_type": "stream",
     "text": [
      "May 10, 2011---->DATE---->Absolute or relative dates or periods\n",
      "Microsoft---->ORG---->Companies, agencies, institutions, etc.\n",
      "Skype Technologies---->ORG---->Companies, agencies, institutions, etc.\n",
      "Skype---->ORG---->Companies, agencies, institutions, etc.\n",
      "$8.5 billion---->MONEY---->Monetary values, including unit\n",
      "Microsoft---->ORG---->Companies, agencies, institutions, etc.\n",
      "Seattle---->GPE---->Countries, cities, states\n",
      "Washington---->GPE---->Countries, cities, states\n",
      "Skype---->ORG---->Companies, agencies, institutions, etc.\n",
      "Palo Alto---->GPE---->Countries, cities, states\n",
      "California---->GPE---->Countries, cities, states\n",
      "Sandeep Junnarkar---->PERSON---->People, including fictional\n",
      "Wikipedia---->ORG---->Companies, agencies, institutions, etc.\n",
      "Paris---->GPE---->Countries, cities, states\n",
      "France---->GPE---->Countries, cities, states\n",
      "the Mona Lisa---->WORK_OF_ART---->Titles of books, songs, etc.\n",
      "Louvre---->LOC---->Non-GPE locations, mountain ranges, bodies of water\n",
      "The Hudson River---->LOC---->Non-GPE locations, mountain ranges, bodies of water\n",
      "Mahicantuck---->ORG---->Companies, agencies, institutions, etc.\n",
      "two---->CARDINAL---->Numerals that do not fall under another type\n",
      "Mahicantuck---->WORK_OF_ART---->Titles of books, songs, etc.\n",
      "315 miles---->QUANTITY---->Measurements, as of weight or distance\n",
      "the Atlantic Ocean---->LOC---->Non-GPE locations, mountain ranges, bodies of water\n",
      "Mt. Mercy---->LOC---->Non-GPE locations, mountain ranges, bodies of water\n",
      "New York---->GPE---->Countries, cities, states\n"
     ]
    }
   ],
   "source": [
    "## find all entities with their label and label descriptors\n",
    "for word in doc.ents:\n",
    "    print(f\"{word}---->{word.label_}---->{spacy.explain(word.label_)}\") "
   ]
  },
  {
   "cell_type": "markdown",
   "metadata": {},
   "source": [
    "## More NLP:\n",
    "\n",
    "- Text summarization\n",
    "- Word frequency\n",
    "- Context around words\n",
    "- Surprise ending?"
   ]
  },
  {
   "cell_type": "code",
   "execution_count": null,
   "metadata": {},
   "outputs": [],
   "source": []
  }
 ],
 "metadata": {
  "celltoolbar": "Slideshow",
  "colab": {
   "collapsed_sections": [
    "fvkdsW79RcUN"
   ],
   "provenance": []
  },
  "kernelspec": {
   "display_name": "Python 3 (ipykernel)",
   "language": "python",
   "name": "python3"
  },
  "language_info": {
   "codemirror_mode": {
    "name": "ipython",
    "version": 3
   },
   "file_extension": ".py",
   "mimetype": "text/x-python",
   "name": "python",
   "nbconvert_exporter": "python",
   "pygments_lexer": "ipython3",
   "version": "3.9.7"
  }
 },
 "nbformat": 4,
 "nbformat_minor": 1
}
